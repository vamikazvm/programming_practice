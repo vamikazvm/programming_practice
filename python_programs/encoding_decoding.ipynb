{
 "cells": [
  {
   "cell_type": "markdown",
   "id": "d18aa935",
   "metadata": {},
   "source": [
    "# Encoding Decoding Array\n",
    "## input \n",
    "arr = ['I' , 'love' , 'oran+ges']\n",
    "## output\n",
    "arr_str = encodedstring, delimiter"
   ]
  },
  {
   "cell_type": "code",
   "execution_count": 6,
   "id": "5a0f9533",
   "metadata": {},
   "outputs": [],
   "source": [
    "def encoding_decoding_arrays(arr:list):\n",
    "    dlim = 0\n",
    "    for var in arr:\n",
    "        for chr in var:\n",
    "            dlim = dlim + ord(chr)\n",
    "    encoded_string = str(dlim).join(arr)\n",
    "    return dlim,encoded_string\n"
   ]
  },
  {
   "cell_type": "code",
   "execution_count": 7,
   "id": "ad6d2bad",
   "metadata": {},
   "outputs": [
    {
     "name": "stdout",
     "output_type": "stream",
     "text": [
      "1262 I1262love1262oranges\n"
     ]
    }
   ],
   "source": [
    "myvar=['I','love','oranges']\n",
    "mystr,dlim=encoding_decoding_arrays(myvar)\n",
    "print(mystr,dlim)"
   ]
  }
 ],
 "metadata": {
  "kernelspec": {
   "display_name": ".venv",
   "language": "python",
   "name": "python3"
  },
  "language_info": {
   "codemirror_mode": {
    "name": "ipython",
    "version": 3
   },
   "file_extension": ".py",
   "mimetype": "text/x-python",
   "name": "python",
   "nbconvert_exporter": "python",
   "pygments_lexer": "ipython3",
   "version": "3.13.3"
  }
 },
 "nbformat": 4,
 "nbformat_minor": 5
}
