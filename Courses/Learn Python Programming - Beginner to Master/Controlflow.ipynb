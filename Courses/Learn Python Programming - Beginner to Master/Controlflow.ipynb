{
 "cells": [
  {
   "cell_type": "markdown",
   "id": "361f332d",
   "metadata": {},
   "source": [
    "# 🔁 Loops in Python\n",
    "\n",
    "Loops allow you to **execute a block of code multiple times**. Python supports two main types of loops:\n",
    "\n",
    "## 1. **`for` Loop**\n",
    "\n",
    "Used to iterate over a **sequence** (like a list, tuple, dictionary, string, or range).\n",
    "\n",
    "```python\n",
    "# Example: Loop through a list\n",
    "fruits = [\"apple\", \"banana\", \"cherry\"]\n",
    "for fruit in fruits:\n",
    "    print(fruit)\n",
    "```\n",
    "\n",
    "### Using `range()`\n",
    "\n",
    "```python\n",
    "# Example: Loop 5 times\n",
    "for i in range(5):\n",
    "    print(i)\n",
    "```\n",
    "\n",
    "## 2. **`while` Loop**\n",
    "\n",
    "Repeats a block of code **as long as a condition is true**.\n",
    "\n",
    "```python\n",
    "# Example: Count from 1 to 5\n",
    "count = 1\n",
    "while count <= 5:\n",
    "    print(count)\n",
    "    count += 1\n",
    "```\n",
    "\n",
    "---\n",
    "\n",
    "## 🔄 Loop Control Statements\n",
    "\n",
    "### `break`\n",
    "\n",
    "Stops the loop immediately.\n",
    "\n",
    "```python\n",
    "for i in range(10):\n",
    "    if i == 5:\n",
    "        break\n",
    "    print(i)\n",
    "```\n",
    "\n",
    "### `continue`\n",
    "\n",
    "Skips the rest of the code in the current loop iteration.\n",
    "\n",
    "```python\n",
    "for i in range(5):\n",
    "    if i == 2:\n",
    "        continue\n",
    "    print(i)\n",
    "```\n",
    "\n",
    "### `else` with Loops\n",
    "\n",
    "Executed when the loop ends **normally (not by `break`)**.\n",
    "\n",
    "```python\n",
    "for i in range(3):\n",
    "    print(i)\n",
    "else:\n",
    "    print(\"Loop finished!\")\n",
    "```\n",
    "\n",
    "---\n",
    "\n",
    "## 🧠 Tip\n",
    "\n",
    "* Use `for` when you **know how many times** you want to loop.\n",
    "* Use `while` when the **looping depends on a condition**.\n",
    "\n",
    "\n"
   ]
  },
  {
   "cell_type": "code",
   "execution_count": 4,
   "id": "19e29900",
   "metadata": {},
   "outputs": [
    {
     "name": "stdout",
     "output_type": "stream",
     "text": [
      "9\n",
      "8\n",
      "7\n",
      "6\n",
      "5\n",
      "4\n",
      "3\n",
      "2\n",
      "1\n"
     ]
    }
   ],
   "source": [
    "n = int(input('Enter a number'))\n",
    "\n",
    "while n > 0:\n",
    "    r = n%10\n",
    "    n= n//10\n",
    "    print(r)"
   ]
  },
  {
   "cell_type": "code",
   "execution_count": 9,
   "id": "cc4dd7e8",
   "metadata": {},
   "outputs": [
    {
     "name": "stdout",
     "output_type": "stream",
     "text": [
      "9 x 1 = 9\n",
      "9 x 2 = 18\n",
      "9 x 3 = 27\n",
      "9 x 4 = 36\n",
      "9 x 5 = 45\n",
      "9 x 6 = 54\n",
      "9 x 7 = 63\n",
      "9 x 8 = 72\n",
      "9 x 9 = 81\n",
      "9 x 10 = 90\n"
     ]
    }
   ],
   "source": [
    "#Display multiplication table\n",
    "\n",
    "n =int(input('Enter a number'))\n",
    "counter=1\n",
    "while counter <=10:\n",
    "   \n",
    "    print(n,'x',counter,'=',n*counter)\n",
    "    counter=counter+1\n"
   ]
  },
  {
   "cell_type": "code",
   "execution_count": 20,
   "id": "4b156052",
   "metadata": {},
   "outputs": [
    {
     "name": "stdout",
     "output_type": "stream",
     "text": [
      "Number of digits are 9\n"
     ]
    }
   ],
   "source": [
    "# FInding the number of digits in a number\n",
    "\n",
    "n =int(input('Enter a number'))\n",
    "counter = 0\n",
    "while n> 0:\n",
    "   \n",
    "    counter = counter+1\n",
    "    n=n//10\n",
    "  \n",
    "print('Number of digits are', counter)\n",
    "\n"
   ]
  },
  {
   "cell_type": "code",
   "execution_count": 23,
   "id": "eca9e23f",
   "metadata": {},
   "outputs": [
    {
     "name": "stdout",
     "output_type": "stream",
     "text": [
      "Sum of digits in a number 45\n"
     ]
    }
   ],
   "source": [
    "n= int(input('Enter a number'))\n",
    "sum=0\n",
    "while n>0:\n",
    "    r=n%10\n",
    "    n=n//10\n",
    "    sum=sum+r\n",
    "\n",
    "print('Sum of digits in a number', sum)\n"
   ]
  },
  {
   "cell_type": "code",
   "execution_count": null,
   "id": "e25ba850",
   "metadata": {},
   "outputs": [],
   "source": [
    "n= int("
   ]
  }
 ],
 "metadata": {
  "kernelspec": {
   "display_name": ".venv",
   "language": "python",
   "name": "python3"
  },
  "language_info": {
   "codemirror_mode": {
    "name": "ipython",
    "version": 3
   },
   "file_extension": ".py",
   "mimetype": "text/x-python",
   "name": "python",
   "nbconvert_exporter": "python",
   "pygments_lexer": "ipython3",
   "version": "3.13.3"
  }
 },
 "nbformat": 4,
 "nbformat_minor": 5
}
