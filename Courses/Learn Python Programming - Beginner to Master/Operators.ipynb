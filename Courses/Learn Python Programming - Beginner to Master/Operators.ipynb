{
 "cells": [
  {
   "cell_type": "markdown",
   "id": "8f1c5518",
   "metadata": {},
   "source": [
    "# Python Operators\n",
    "\n",
    "Python provides a variety of operators to perform operations on variables and values.\n",
    "\n",
    "---\n",
    "\n",
    "## 1. Arithmetic Operators\n",
    "\n",
    "| Operator | Description        | Example      |\n",
    "|----------|--------------------|--------------|\n",
    "| `+`      | Addition            | `a + b`      |\n",
    "| `-`      | Subtraction         | `a - b`      |\n",
    "| `*`      | Multiplication      | `a * b`      |\n",
    "| `/`      | Division            | `a / b`      |\n",
    "| `//`     | Floor Division      | `a // b`     |\n",
    "| `%`      | Modulus             | `a % b`      |\n",
    "| `**`     | Exponentiation      | `a ** b`     |\n",
    "\n",
    "---\n",
    "\n",
    "## 2. Comparison Operators\n",
    "\n",
    "| Operator | Description        | Example      |\n",
    "|----------|--------------------|--------------|\n",
    "| `==`     | Equal to            | `a == b`     |\n",
    "| `!=`     | Not equal to        | `a != b`     |\n",
    "| `>`      | Greater than        | `a > b`      |\n",
    "| `<`      | Less than           | `a < b`      |\n",
    "| `>=`     | Greater than or equal to | `a >= b` |\n",
    "| `<=`     | Less than or equal to    | `a <= b` |\n",
    "\n",
    "---\n",
    "\n",
    "## 3. Assignment Operators\n",
    "\n",
    "| Operator | Description        | Example      |\n",
    "|----------|--------------------|--------------|\n",
    "| `=`      | Assign              | `a = 10`     |\n",
    "| `+=`     | Add and assign      | `a += 5`     |\n",
    "| `-=`     | Subtract and assign | `a -= 3`     |\n",
    "| `*=`     | Multiply and assign | `a *= 2`     |\n",
    "| `/=`     | Divide and assign   | `a /= 4`     |\n",
    "| `//=`    | Floor divide and assign | `a //= 2` |\n",
    "| `%=`     | Modulus and assign  | `a %= 3`     |\n",
    "| `**=`    | Power and assign    | `a **= 2`    |\n",
    "\n",
    "---\n",
    "\n",
    "## 4. Logical Operators\n",
    "\n",
    "| Operator | Description        | Example           |\n",
    "|----------|--------------------|-------------------|\n",
    "| `and`    | Logical AND         | `a and b`         |\n",
    "| `or`     | Logical OR          | `a or b`          |\n",
    "| `not`    | Logical NOT         | `not a`           |\n",
    "\n",
    "---\n",
    "\n",
    "## 5. Bitwise Operators\n",
    "\n",
    "| Operator | Description        | Example      |\n",
    "|----------|--------------------|--------------|\n",
    "| `&`      | AND                 | `a & b`      |\n",
    "| `|`      | OR                  | `a | b`      |\n",
    "| `^`      | XOR                 | `a ^ b`      |\n",
    "| `~`      | NOT (invert)        | `~a`         |\n",
    "| `<<`     | Left shift          | `a << 1`     |\n",
    "| `>>`     | Right shift         | `a >> 1`     |\n",
    "\n",
    "---\n",
    "\n",
    "## 6. Membership Operators\n",
    "\n",
    "| Operator | Description        | Example         |\n",
    "|----------|--------------------|-----------------|\n",
    "| `in`     | Value is in        | `'a' in 'apple'`|\n",
    "| `not in` | Value is not in    | `'x' not in 'apple'` |\n",
    "\n",
    "---\n",
    "\n",
    "## 7. Identity Operators\n",
    "\n",
    "| Operator | Description         | Example       |\n",
    "|----------|---------------------|---------------|\n",
    "| `is`     | Same object         | `a is b`      |\n",
    "| `is not` | Not same object     | `a is not b`  |\n"
   ]
  },
  {
   "cell_type": "code",
   "execution_count": 5,
   "id": "7ea5ced0",
   "metadata": {},
   "outputs": [
    {
     "name": "stdout",
     "output_type": "stream",
     "text": [
      "19\n"
     ]
    }
   ],
   "source": [
    "a=15 \n",
    "b=4\n",
    "print(a+b)"
   ]
  },
  {
   "cell_type": "code",
   "execution_count": 6,
   "id": "075c8a08",
   "metadata": {},
   "outputs": [
    {
     "name": "stdout",
     "output_type": "stream",
     "text": [
      "11\n"
     ]
    }
   ],
   "source": [
    "a=15 \n",
    "b=4\n",
    "print(a-b)"
   ]
  },
  {
   "cell_type": "code",
   "execution_count": 7,
   "id": "d0b6824a",
   "metadata": {},
   "outputs": [
    {
     "name": "stdout",
     "output_type": "stream",
     "text": [
      "60\n"
     ]
    }
   ],
   "source": [
    "a=15 \n",
    "b=4\n",
    "print(a*b)"
   ]
  },
  {
   "cell_type": "code",
   "execution_count": 4,
   "id": "4ed1a1dc",
   "metadata": {},
   "outputs": [
    {
     "name": "stdout",
     "output_type": "stream",
     "text": [
      "50625\n"
     ]
    }
   ],
   "source": [
    "a=15 #exponential\n",
    "b=4\n",
    "print(a**b)"
   ]
  },
  {
   "cell_type": "code",
   "execution_count": null,
   "id": "ecdf268b",
   "metadata": {},
   "outputs": [
    {
     "name": "stdout",
     "output_type": "stream",
     "text": [
      "3.75\n"
     ]
    }
   ],
   "source": [
    "a=15 #float division\n",
    "b=4\n",
    "print(a/b)\n"
   ]
  },
  {
   "cell_type": "code",
   "execution_count": 2,
   "id": "d4eb7716",
   "metadata": {},
   "outputs": [
    {
     "name": "stdout",
     "output_type": "stream",
     "text": [
      "3\n"
     ]
    }
   ],
   "source": [
    "a=15 #floor division\n",
    "b=4\n",
    "print(a//b)"
   ]
  },
  {
   "cell_type": "code",
   "execution_count": 3,
   "id": "814ddcfd",
   "metadata": {},
   "outputs": [
    {
     "name": "stdout",
     "output_type": "stream",
     "text": [
      "3\n"
     ]
    }
   ],
   "source": [
    "a=15 #modulus\n",
    "b=4\n",
    "print(a%b)"
   ]
  },
  {
   "cell_type": "markdown",
   "id": "ae8ecf99",
   "metadata": {},
   "source": [
    "# 🐍 Python Expressions – Detailed Table with Precedence, Associativity, and Parentheses\n",
    "\n",
    "| Expression Type         | Example                             | Description                                              | Precedence¹ | Associativity   | Parentheses Recommendation         |\n",
    "|-------------------------|-------------------------------------|----------------------------------------------------------|-------------|------------------|-------------------------------------|\n",
    "| **Parentheses**         | `(2 + 3) * 4`                       | Group expressions, overrides default precedence          | 1           | N/A              | ✅ Always use to group/control flow |\n",
    "| **Function Call**       | `len(\"abc\")`                        | Calls a function                                         | 2           | Left-to-Right    | ✅ Required                         |\n",
    "| **Indexing/Slicing**    | `lst[0]`, `s[1:3]`                  | Access elements or slices                               | 2           | Left-to-Right    | ✅ Required                         |\n",
    "| **Exponentiation**      | `2 ** 3 ** 2`                       | Power calculation                                        | 3           | Right-to-Left    | ✅ Use parentheses when chaining    |\n",
    "| **Unary +, -, ~**       | `-a`, `+b`, `~x`                    | Unary negation, positive, bitwise NOT                    | 4           | Right-to-Left    | ✅ For clarity                      |\n",
    "| **Multiplication, Division, Modulus** | `a * b`, `x / y`, `a % b`, `a // b` | Basic arithmetic                                  | 5           | Left-to-Right    | ✅ With addition or subtraction     |\n",
    "| **Addition/Subtraction**| `a + b`, `x - y`                    | Arithmetic operations                                    | 6           | Left-to-Right    | ✅ With higher/lower ops            |\n",
    "| **Bitwise Shift**       | `a << 2`, `b >> 1`                  | Shift bits                                               | 7           | Left-to-Right    | ⚠ Use with bitwise or arithmetic   |\n",
    "| **Bitwise AND**         | `a & b`                             | Bitwise AND                                              | 8           | Left-to-Right    | ⚠ Recommended                      |\n",
    "| **Bitwise XOR**         | `a ^ b`                             | Bitwise XOR                                              | 9           | Left-to-Right    | ⚠ Recommended                      |\n",
    "| **Bitwise OR**          | `a | b`                             | Bitwise OR                                               | 10          | Left-to-Right    | ⚠ Recommended                      |\n",
    "| **Comparison**          | `a < b`, `x == y`                   | Compares values                                          | 11          | Left-to-Right    | ✅ With logical operators           |\n",
    "| **Identity**            | `a is b`, `x is not y`              | Compares object identity                                 | 11          | Left-to-Right    | ✅ For readability                  |\n",
    "| **Membership**          | `'a' in 'apple'`, `x not in lst`    | Membership checks                                        | 11          | Left-to-Right    | ✅ Optional                         |\n",
    "| **Logical NOT**         | `not x`                             | Logical negation                                         | 12          | Right-to-Left    | ✅ Use to clarify logic             |\n",
    "| **Logical AND**         | `a and b`                           | Logical conjunction                                      | 13          | Left-to-Right    | ✅ Use when combining logic         |\n",
    "| **Logical OR**          | `a or b`                            | Logical disjunction                                      | 14          | Left-to-Right    | ✅ Use when combining logic         |\n",
    "| **Conditional (Ternary)** | `x if cond else y`                | Short `if-else` expressions                              | 15          | Right-to-Left    | ✅ Use when nested                  |\n",
    "| **Assignment**          | `x = 5`, `x += 1`, `y *= 2`         | Assign and update values                                 | 16          | Right-to-Left    | ❌ Not needed unless combined       |\n",
    "| **Walrus Operator**     | `(n := len(s)) > 5`                 | Assign and return a value                                | 17          | Right-to-Left    | ✅ Often necessary                  |\n",
    "| **Lambda**              | `lambda x: x * 2`                   | Anonymous function                                       | 18 (Lowest) | N/A              | ✅ Often must be wrapped            |\n",
    "\n",
    "---\n",
    "\n",
    "### 📘 Notes:\n",
    "\n",
    "- **Precedence¹**: Lower number = higher precedence.\n",
    "- **Associativity**:\n",
    "  - Most operators associate **left-to-right**.\n",
    "  - **Right-to-left** applies to: `**`, unary ops, assignment, ternary, and lambda.\n",
    "- Parentheses make complex expressions readable and avoid precedence bugs.\n",
    "\n",
    "---\n",
    "\n",
    "### ✅ Example: Mixing Precedence\n",
    "\n",
    "```python\n",
    "x = 2\n",
    "y = 3\n",
    "z = 4\n",
    "\n",
    "# Without parentheses:\n",
    "result = x + y * z  # 2 + (3 * 4) = 14\n",
    "\n",
    "# With parentheses:\n",
    "result = (x + y) * z  # (2 + 3) * 4 = 20\n"
   ]
  },
  {
   "cell_type": "code",
   "execution_count": 2,
   "id": "a95e3df1",
   "metadata": {},
   "outputs": [
    {
     "name": "stdout",
     "output_type": "stream",
     "text": [
      "Area is  50000\n"
     ]
    }
   ],
   "source": [
    "length = int(input('Enter length of the rectangle'))\n",
    "breadth = int(input('Enter breadth of the rectangle'))\n",
    "area = length*breadth\n",
    "print('Area is ', area)"
   ]
  },
  {
   "cell_type": "code",
   "execution_count": 3,
   "id": "bde9a1a4",
   "metadata": {},
   "outputs": [
    {
     "name": "stdout",
     "output_type": "stream",
     "text": [
      "Area is  90.0\n"
     ]
    }
   ],
   "source": [
    "base = int(input('Enter base of the triange'))\n",
    "height = int(input('Enter height of the triangle'))\n",
    "area = 1/2 * (base*height)\n",
    "print('Area is ', area)"
   ]
  },
  {
   "cell_type": "code",
   "execution_count": null,
   "id": "c93fc6b3",
   "metadata": {},
   "outputs": [
    {
     "name": "stdout",
     "output_type": "stream",
     "text": [
      "Area is  135.0\n"
     ]
    }
   ],
   "source": [
    "a = int(input('Enter side a of the trapezium'))\n",
    "b = int(input('Enter side b of the trapezium'))\n",
    "h= int(input('Enter height of the trapezium'))\n",
    "area = 1/2 * (a+b)*h\n",
    "print('Area is of trapezium ', area)"
   ]
  },
  {
   "cell_type": "code",
   "execution_count": 8,
   "id": "9043661e",
   "metadata": {},
   "outputs": [
    {
     "name": "stdout",
     "output_type": "stream",
     "text": [
      "Displacement is 31.25\n"
     ]
    }
   ],
   "source": [
    "u = int(input('Enter initial velocity'))\n",
    "v = int(input('Enter final velocity'))\n",
    "a = int(input('Enter acceleration'))\n",
    "d =(v**2-u**2)/(2*a)\n",
    "print('Displacement is', d)"
   ]
  },
  {
   "cell_type": "code",
   "execution_count": 9,
   "id": "a34f6ed7",
   "metadata": {},
   "outputs": [
    {
     "name": "stdout",
     "output_type": "stream",
     "text": [
      "Miles =  12.42742\n"
     ]
    }
   ],
   "source": [
    "#km too miles\n",
    "km = float(input('Enter Km'))\n",
    "miles = km*0.621371\n",
    "print('Miles = ', miles)"
   ]
  },
  {
   "cell_type": "code",
   "execution_count": 15,
   "id": "99a377aa",
   "metadata": {},
   "outputs": [
    {
     "name": "stdout",
     "output_type": "stream",
     "text": [
      "Area is of circle  153.93804002589985\n"
     ]
    }
   ],
   "source": [
    "#Area of circle\n",
    "import math\n",
    "radius = float(input('Enter Radius'))\n",
    "area = math.pi * radius **2\n",
    "print('Area is of circle ', area)\n"
   ]
  },
  {
   "cell_type": "code",
   "execution_count": 17,
   "id": "50aadfb3",
   "metadata": {},
   "outputs": [
    {
     "name": "stdout",
     "output_type": "stream",
     "text": [
      "Total SUrface Area = 190\n"
     ]
    }
   ],
   "source": [
    "l = int(input('Enter length '))\n",
    "b= int(input('Enter breadth '))\n",
    "h= int(input('Enter height'))\n",
    "tsa = 2*(l*b+b*h+l*h)\n",
    "print('Total SUrface Area =', tsa)\n",
    "\n"
   ]
  },
  {
   "cell_type": "code",
   "execution_count": 20,
   "id": "ab2f72ae",
   "metadata": {},
   "outputs": [
    {
     "name": "stdout",
     "output_type": "stream",
     "text": [
      "Roots are  -11.0 11.0\n"
     ]
    }
   ],
   "source": [
    "import math\n",
    "\n",
    "a= int(input('Enter a '))\n",
    "b= int(input('Enter b '))\n",
    "c= int(input('Enter c '))\n",
    "root1 = -( b+ math.sqrt (b**2 - 4*a*c)/(2*a))\n",
    "root2 =  b+ math.sqrt (b**2 - 4*a*c)/(2*a)\n",
    "print('Roots are ', root1, root2)\n"
   ]
  },
  {
   "cell_type": "code",
   "execution_count": 27,
   "id": "da31cb53",
   "metadata": {},
   "outputs": [
    {
     "name": "stdout",
     "output_type": "stream",
     "text": [
      "1\n",
      "5\n"
     ]
    }
   ],
   "source": [
    "#Assignment operator\n",
    "count = 0 \n",
    "\n",
    "print(count+1)\n",
    "count+=5\n",
    "print(count)"
   ]
  },
  {
   "cell_type": "code",
   "execution_count": null,
   "id": "c1173cf1",
   "metadata": {},
   "outputs": [],
   "source": []
  }
 ],
 "metadata": {
  "kernelspec": {
   "display_name": ".venv",
   "language": "python",
   "name": "python3"
  },
  "language_info": {
   "codemirror_mode": {
    "name": "ipython",
    "version": 3
   },
   "file_extension": ".py",
   "mimetype": "text/x-python",
   "name": "python",
   "nbconvert_exporter": "python",
   "pygments_lexer": "ipython3",
   "version": "3.13.3"
  }
 },
 "nbformat": 4,
 "nbformat_minor": 5
}
