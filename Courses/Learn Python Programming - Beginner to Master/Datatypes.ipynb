{
 "cells": [
  {
   "cell_type": "markdown",
   "id": "4f54ddc8",
   "metadata": {},
   "source": [
    "Python datatypes =>\n",
    "\n",
    "Numeric Types\n",
    "Variables\n",
    "Literals\n",
    "Conversions"
   ]
  },
  {
   "cell_type": "markdown",
   "id": "0322bffb",
   "metadata": {},
   "source": [
    "Sure! Here's the same explanation formatted in **Markdown**:\n",
    "\n",
    "````markdown\n",
    "# Python Variables\n",
    "\n",
    "Variables in Python are used to store data. Python uses dynamic typing, so you don't need to declare a type explicitly.\n",
    "\n",
    "## 1. Declaring Variables\n",
    "\n",
    "```python\n",
    "x = 5              # Integer\n",
    "name = \"Ali\"       # String\n",
    "price = 10.5       # Float\n",
    "is_active = True   # Boolean\n",
    "````\n",
    "\n",
    "## 2. Rules for Naming Variables\n",
    "\n",
    "* Must start with a letter (a–z, A–Z) or underscore `_`\n",
    "* Cannot start with a number\n",
    "* Can include letters, numbers, and underscores\n",
    "* Case-sensitive (`Name` and `name` are different)\n",
    "\n",
    "## 3. Dynamic Typing\n",
    "\n",
    "A variable can change type after assignment:\n",
    "\n",
    "```python\n",
    "x = 5\n",
    "x = \"Now I'm a string\"\n",
    "```\n",
    "\n",
    "## 4. Multiple Assignments\n",
    "\n",
    "```python\n",
    "a, b, c = 1, 2, 3\n",
    "x = y = z = \"same value\"\n",
    "```\n",
    "\n",
    "## 5. Type Checking\n",
    "\n",
    "You can check a variable's type using the `type()` function:\n",
    "\n",
    "```python\n",
    "print(type(x))\n",
    "```\n",
    "\n",
    "```\n",
    "\n",
    "Let me know if you want a downloadable version or a rendered preview.\n",
    "```\n"
   ]
  },
  {
   "cell_type": "code",
   "execution_count": 1,
   "id": "cb843fac",
   "metadata": {},
   "outputs": [
    {
     "name": "stdout",
     "output_type": "stream",
     "text": [
      "10.5\n"
     ]
    }
   ],
   "source": [
    "name, price, weight = 'toothpaste', 10.5, 5\n",
    "print(price)"
   ]
  },
  {
   "cell_type": "code",
   "execution_count": 5,
   "id": "dc090e66",
   "metadata": {},
   "outputs": [
    {
     "name": "stdout",
     "output_type": "stream",
     "text": [
      "<class 'int'>\n"
     ]
    }
   ],
   "source": [
    "x=25\n",
    "print(type(x))"
   ]
  },
  {
   "cell_type": "markdown",
   "id": "7223c674",
   "metadata": {},
   "source": [
    "Here's a Markdown version explaining the **data types in Python**:\n",
    "\n",
    "````markdown\n",
    "# Python Data Types\n",
    "\n",
    "Python has several built-in data types, categorized into different classes.\n",
    "\n",
    "## 1. Numeric Types\n",
    "\n",
    "- **int** – Integer values  \n",
    "  ```python\n",
    "  x = 10\n",
    "````\n",
    "\n",
    "* **float** – Floating-point numbers\n",
    "\n",
    "  ```python\n",
    "  y = 10.5\n",
    "  ```\n",
    "\n",
    "* **complex** – Complex numbers\n",
    "\n",
    "  ```python\n",
    "  z = 2 + 3j\n",
    "  ```\n",
    "\n",
    "## 2. Text Type\n",
    "\n",
    "* **str** – String\n",
    "\n",
    "  ```python\n",
    "  name = \"Python\"\n",
    "  ```\n",
    "\n",
    "## 3. Sequence Types\n",
    "\n",
    "* **list** – Ordered, mutable collection\n",
    "\n",
    "  ```python\n",
    "  fruits = [\"apple\", \"banana\", \"cherry\"]\n",
    "  ```\n",
    "\n",
    "* **tuple** – Ordered, immutable collection\n",
    "\n",
    "  ```python\n",
    "  coordinates = (10, 20)\n",
    "  ```\n",
    "\n",
    "* **range** – Sequence of numbers\n",
    "\n",
    "  ```python\n",
    "  numbers = range(5)\n",
    "  ```\n",
    "\n",
    "## 4. Set Types\n",
    "\n",
    "* **set** – Unordered, unique items\n",
    "\n",
    "  ```python\n",
    "  s = {1, 2, 3}\n",
    "  ```\n",
    "\n",
    "* **frozenset** – Immutable set\n",
    "\n",
    "  ```python\n",
    "  fs = frozenset([1, 2, 3])\n",
    "  ```\n",
    "\n",
    "## 5. Mapping Type\n",
    "\n",
    "* **dict** – Key-value pairs\n",
    "\n",
    "  ```python\n",
    "  person = {\"name\": \"Alice\", \"age\": 25}\n",
    "  ```\n",
    "\n",
    "## 6. Boolean Type\n",
    "\n",
    "* **bool** – True or False\n",
    "\n",
    "  ```python\n",
    "  is_valid = True\n",
    "  ```\n",
    "\n",
    "## 7. Binary Types\n",
    "\n",
    "* **bytes**\n",
    "\n",
    "  ```python\n",
    "  b = b\"Hello\"\n",
    "  ```\n",
    "\n",
    "* **bytearray**\n",
    "\n",
    "  ```python\n",
    "  ba = bytearray([65, 66, 67])\n",
    "  ```\n",
    "\n",
    "* **memoryview**\n",
    "\n",
    "  ```python\n",
    "  mv = memoryview(bytes(5))\n",
    "  ```\n",
    "\n",
    "## 8. None Type\n",
    "\n",
    "* **NoneType** – Represents absence of a value\n",
    "\n",
    "  ```python\n",
    "  x = None\n",
    "  ```\n",
    "\n",
    "---\n",
    "\n",
    "Use `type()` to check the data type of any variable:\n",
    "\n",
    "```python\n",
    "print(type(x))\n",
    "```\n",
    "\n",
    "```\n",
    "\n",
    "Would you like this saved as a `.md` file or converted into a PDF?\n",
    "```\n"
   ]
  },
  {
   "cell_type": "code",
   "execution_count": 7,
   "id": "bacc6839",
   "metadata": {},
   "outputs": [
    {
     "name": "stdout",
     "output_type": "stream",
     "text": [
      "32\n"
     ]
    }
   ],
   "source": [
    "x=1234567890\n",
    "print(x.__sizeof__())"
   ]
  },
  {
   "cell_type": "code",
   "execution_count": 10,
   "id": "1d99c02b",
   "metadata": {},
   "outputs": [
    {
     "name": "stdout",
     "output_type": "stream",
     "text": [
      "12.59\n",
      "12.59\n",
      "123456789.12345679\n"
     ]
    }
   ],
   "source": [
    "a=12.59\n",
    "b= 1259e-2\n",
    "c= 0.1259e2\n",
    "x= 123456789.123456789\n",
    "print(b)\n",
    "print(c)\n",
    "print(x)"
   ]
  },
  {
   "cell_type": "code",
   "execution_count": 13,
   "id": "741ee715",
   "metadata": {},
   "outputs": [
    {
     "name": "stdout",
     "output_type": "stream",
     "text": [
      "1\n",
      "<class 'bool'>\n"
     ]
    }
   ],
   "source": [
    "a=True\n",
    "int(a)\n",
    "print(int(a))\n",
    "print(type(a))"
   ]
  },
  {
   "cell_type": "code",
   "execution_count": 18,
   "id": "f2dedf5b",
   "metadata": {},
   "outputs": [
    {
     "name": "stdout",
     "output_type": "stream",
     "text": [
      "(1.2+3.55j)\n",
      "1.2\n",
      "3.55\n"
     ]
    }
   ],
   "source": [
    "a  = 1.2+3.55j\n",
    "print(a)\n",
    "print(a.real)\n",
    "print(a.imag)\n"
   ]
  },
  {
   "cell_type": "code",
   "execution_count": 15,
   "id": "fca0c79e",
   "metadata": {},
   "outputs": [
    {
     "name": "stdout",
     "output_type": "stream",
     "text": [
      "(12+9j)\n"
     ]
    }
   ],
   "source": [
    "b=complex(12,9)\n",
    "print(b)"
   ]
  },
  {
   "cell_type": "code",
   "execution_count": 16,
   "id": "a01ad5bf",
   "metadata": {},
   "outputs": [
    {
     "name": "stdout",
     "output_type": "stream",
     "text": [
      "(12+0j)\n"
     ]
    }
   ],
   "source": [
    "c=complex(12)\n",
    "print(c)"
   ]
  },
  {
   "cell_type": "code",
   "execution_count": 22,
   "id": "5e889edb",
   "metadata": {},
   "outputs": [
    {
     "name": "stdout",
     "output_type": "stream",
     "text": [
      "(55+12j)\n",
      "12.45\n",
      "123456\n",
      "12\n"
     ]
    }
   ],
   "source": [
    "a = 123_456\n",
    "b=1_2\n",
    "f= 1_2.4_5\n",
    "c=5_5+1_2j\n",
    "print(c)\n",
    "print(f)\n",
    "print(a)\n",
    "print(b)\n"
   ]
  }
 ],
 "metadata": {
  "kernelspec": {
   "display_name": ".venv",
   "language": "python",
   "name": "python3"
  },
  "language_info": {
   "codemirror_mode": {
    "name": "ipython",
    "version": 3
   },
   "file_extension": ".py",
   "mimetype": "text/x-python",
   "name": "python",
   "nbconvert_exporter": "python",
   "pygments_lexer": "ipython3",
   "version": "3.13.3"
  }
 },
 "nbformat": 4,
 "nbformat_minor": 5
}
