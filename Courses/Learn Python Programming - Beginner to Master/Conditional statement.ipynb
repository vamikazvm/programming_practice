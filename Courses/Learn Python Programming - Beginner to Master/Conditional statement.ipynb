{
 "cells": [
  {
   "cell_type": "markdown",
   "id": "da038965",
   "metadata": {},
   "source": [
    "Here’s a concise **Markdown guide for Conditional Statements in Python**:\n",
    "\n",
    "---\n",
    "\n",
    "# 🐍 Conditional Statements in Python\n",
    "\n",
    "Conditional statements help in decision-making by executing different blocks of code depending on the condition.\n",
    "\n",
    "## 🔹 `if` Statement\n",
    "\n",
    "```python\n",
    "x = 10\n",
    "if x > 5:\n",
    "    print(\"x is greater than 5\")\n",
    "```\n",
    "\n",
    "## 🔹 `if-else` Statement\n",
    "\n",
    "```python\n",
    "x = 3\n",
    "if x > 5:\n",
    "    print(\"x is greater than 5\")\n",
    "else:\n",
    "    print(\"x is 5 or less\")\n",
    "```\n",
    "\n",
    "## 🔹 `if-elif-else` Statement\n",
    "\n",
    "```python\n",
    "x = 5\n",
    "if x > 5:\n",
    "    print(\"x is greater than 5\")\n",
    "elif x == 5:\n",
    "    print(\"x is equal to 5\")\n",
    "else:\n",
    "    print(\"x is less than 5\")\n",
    "```\n",
    "\n",
    "## 🔹 Nested `if` Statements\n",
    "\n",
    "```python\n",
    "x = 10\n",
    "if x > 5:\n",
    "    if x < 15:\n",
    "        print(\"x is between 5 and 15\")\n",
    "```\n",
    "\n",
    "## 🔹 Shorthand `if` (Ternary Operator)\n",
    "\n",
    "```python\n",
    "x = 7\n",
    "print(\"Even\") if x % 2 == 0 else print(\"Odd\")\n",
    "```\n",
    "\n",
    "---\n",
    "\n",
    "Let me know if you'd like the same in PDF or need practice questions!\n"
   ]
  },
  {
   "cell_type": "code",
   "execution_count": 1,
   "id": "f3182c9e",
   "metadata": {},
   "outputs": [
    {
     "name": "stdout",
     "output_type": "stream",
     "text": [
      "Positive\n"
     ]
    }
   ],
   "source": [
    "a = int(input('Enter a number'))\n",
    "if a<0:\n",
    "    print('Negative')\n",
    "else:\n",
    "    print('Positive')"
   ]
  },
  {
   "cell_type": "markdown",
   "id": "9e8204eb",
   "metadata": {},
   "source": [
    "Here is the **complete Markdown guide** including truth tables for **all logical operators (`and`, `or`, `not`)** along with examples and compound conditionals:\n",
    "\n",
    "---\n",
    "\n",
    "# 🔗 Logical & Compound Conditional Statements in Python\n",
    "\n",
    "## ✅ What Are Compound Conditionals?\n",
    "\n",
    "Compound conditionals are used to combine **multiple conditions** using logical operators: `and`, `or`, and `not`.\n",
    "\n",
    "---\n",
    "\n",
    "## 🔹 Logical Operators Recap\n",
    "\n",
    "| Operator | Description                          | Example            |\n",
    "| -------- | ------------------------------------ | ------------------ |\n",
    "| `and`    | True if **both** conditions are true | `x > 5 and x < 10` |\n",
    "| `or`     | True if **at least one** is true     | `x < 5 or x > 15`  |\n",
    "| `not`    | Reverses the result of the condition | `not x == 10`      |\n",
    "\n",
    "---\n",
    "\n",
    "## 🧮 Truth Tables\n",
    "\n",
    "### ✔️ `and` Operator\n",
    "\n",
    "| Condition A | Condition B | A `and` B |\n",
    "| ----------- | ----------- | --------- |\n",
    "| `True`      | `True`      | `True`    |\n",
    "| `True`      | `False`     | `False`   |\n",
    "| `False`     | `True`      | `False`   |\n",
    "| `False`     | `False`     | `False`   |\n",
    "\n",
    "---\n",
    "\n",
    "### ✔️ `or` Operator\n",
    "\n",
    "| Condition A | Condition B | A `or` B |\n",
    "| ----------- | ----------- | -------- |\n",
    "| `True`      | `True`      | `True`   |\n",
    "| `True`      | `False`     | `True`   |\n",
    "| `False`     | `True`      | `True`   |\n",
    "| `False`     | `False`     | `False`  |\n",
    "\n",
    "---\n",
    "\n",
    "### ✔️ `not` Operator\n",
    "\n",
    "| Condition | `not` Condition |\n",
    "| --------- | --------------- |\n",
    "| `True`    | `False`         |\n",
    "| `False`   | `True`          |\n",
    "\n",
    "---\n",
    "\n",
    "## 🧪 Examples\n",
    "\n",
    "### 🔸 Using `and`\n",
    "\n",
    "```python\n",
    "age = 25\n",
    "if age > 18 and age < 30:\n",
    "    print(\"Eligible for the program\")\n",
    "```\n",
    "\n",
    "---\n",
    "\n",
    "### 🔸 Using `or`\n",
    "\n",
    "```python\n",
    "day = \"Saturday\"\n",
    "if day == \"Saturday\" or day == \"Sunday\":\n",
    "    print(\"It's the weekend!\")\n",
    "```\n",
    "\n",
    "---\n",
    "\n",
    "### 🔸 Using `not`\n",
    "\n",
    "```python\n",
    "logged_in = False\n",
    "if not logged_in:\n",
    "    print(\"Please log in to continue.\")\n",
    "```\n",
    "\n",
    "---\n",
    "\n",
    "### 🔸 Compound Conditionals with Parentheses\n",
    "\n",
    "```python\n",
    "x = 7\n",
    "y = 12\n",
    "if (x > 5 and y < 15) or (x == 7 and not y == 10):\n",
    "    print(\"Complex condition passed\")\n",
    "```\n",
    "\n",
    "---\n",
    "\n",
    "> 💡 **Tip:** Use parentheses `()` in complex conditions to make your logic clear and prevent unexpected results.\n",
    "\n",
    "---\n",
    "\n",
    "Let me know if you want this as a downloadable PDF or formatted as a printable cheat sheet!\n"
   ]
  },
  {
   "cell_type": "code",
   "execution_count": null,
   "id": "26aeb9e6",
   "metadata": {},
   "outputs": [
    {
     "name": "stdout",
     "output_type": "stream",
     "text": [
      "3\n"
     ]
    }
   ],
   "source": [
    "no1 = int(input('Enter first number: '))\n",
    "no2 = int(input('Enter second number: '))\n",
    "\n",
    "if no1 - no2 >= 0:\n",
    "    print(no1 - no2)\n",
    "else:\n",
    "    print(no2 - no1)\n"
   ]
  },
  {
   "cell_type": "code",
   "execution_count": null,
   "id": "1e8c33fa",
   "metadata": {},
   "outputs": [
    {
     "name": "stdout",
     "output_type": "stream",
     "text": [
      "is even\n"
     ]
    }
   ],
   "source": [
    "num = int(input('Enter a number: '))\n",
    "if num%2==0:\n",
    "    print('is even')\n",
    "else:\n",
    "    print('is odd')"
   ]
  },
  {
   "cell_type": "code",
   "execution_count": 19,
   "id": "09a31e78",
   "metadata": {},
   "outputs": [
    {
     "name": "stdout",
     "output_type": "stream",
     "text": [
      "not eligible\n"
     ]
    }
   ],
   "source": [
    "age = int(input('Enter age: '))\n",
    "if age>=18:\n",
    "    print('is eligible')\n",
    "else:\n",
    "    print('not eligible')"
   ]
  },
  {
   "cell_type": "code",
   "execution_count": 2,
   "id": "a6f3d6d8",
   "metadata": {},
   "outputs": [
    {
     "name": "stdout",
     "output_type": "stream",
     "text": [
      "Invalid\n"
     ]
    }
   ],
   "source": [
    "marks = int(input('Enter Marks: '))\n",
    "\n",
    "if marks >=0 and marks <=100:\n",
    "    print('Valid')\n",
    "else:\n",
    "    print('Invalid')"
   ]
  },
  {
   "cell_type": "code",
   "execution_count": 9,
   "id": "0c5d1054",
   "metadata": {},
   "outputs": [
    {
     "name": "stdout",
     "output_type": "stream",
     "text": [
      "Female\n"
     ]
    }
   ],
   "source": [
    "gender = input('Enter gender: ')\n",
    "if gender =='m' or gender =='M':\n",
    "    print('Male')\n",
    "else:\n",
    "    print('Female')"
   ]
  },
  {
   "cell_type": "code",
   "execution_count": 16,
   "id": "2d582193",
   "metadata": {},
   "outputs": [
    {
     "name": "stdout",
     "output_type": "stream",
     "text": [
      "is eligible\n"
     ]
    }
   ],
   "source": [
    "age = int(input('Enter age: '))\n",
    "if age>=18 and age<=60:\n",
    "    print('is eligible')\n",
    "else:\n",
    "    print('not eligible')"
   ]
  },
  {
   "cell_type": "code",
   "execution_count": 20,
   "id": "54884be5",
   "metadata": {},
   "outputs": [
    {
     "name": "stdout",
     "output_type": "stream",
     "text": [
      "Pass\n"
     ]
    }
   ],
   "source": [
    "phy  = int(input('Enter phy marks: '))\n",
    "maths  = int(input('Enter maths marks: '))\n",
    "chem  = int(input('Enter chem marks: '))\n",
    "\n",
    "\n",
    "if maths>=45 and phy >=45 and chem >=45:\n",
    "    print('Pass')\n",
    "else:\n",
    "    print('Fail')\n"
   ]
  },
  {
   "cell_type": "code",
   "execution_count": 4,
   "id": "f8df4d7d",
   "metadata": {},
   "outputs": [
    {
     "name": "stdout",
     "output_type": "stream",
     "text": [
      "Authorized\n"
     ]
    }
   ],
   "source": [
    "a1 = input('Enter the username: ')\n",
    "\n",
    "\n",
    "if (a1=='john' or a1=='smith'):\n",
    "    print('Authorized')\n",
    "else:\n",
    "     print('Access denied')\n"
   ]
  },
  {
   "cell_type": "code",
   "execution_count": 17,
   "id": "8d242895",
   "metadata": {},
   "outputs": [
    {
     "name": "stdout",
     "output_type": "stream",
     "text": [
      "not a vowel\n"
     ]
    }
   ],
   "source": [
    "char = input('Enter a letter in lower case: ')\n",
    "\n",
    "if char == 'a' or char == 'e' or char == 'i' or char == 'o' or char == 'u':\n",
    "\n",
    "    print('is a vowel')\n",
    "else:\n",
    "    print('not a vowel')\n"
   ]
  },
  {
   "cell_type": "code",
   "execution_count": 20,
   "id": "8ed4d3f5",
   "metadata": {},
   "outputs": [
    {
     "name": "stdout",
     "output_type": "stream",
     "text": [
      "smith is oldest\n"
     ]
    }
   ],
   "source": [
    "#Nestedif\n",
    "\n",
    "john = int(input('Enter john age'))\n",
    "smith = int(input('Enter smith age'))\n",
    "ajay = int(input('Enter ajay age'))\n",
    "\n",
    "if john>smith and john>ajay:\n",
    "    print('john is oldest')\n",
    "\n",
    "else:\n",
    "    if smith>ajay :\n",
    "        print('smith is oldest')\n",
    "    else:\n",
    "        print('ajay is oldest')\n",
    "     "
   ]
  },
  {
   "cell_type": "code",
   "execution_count": 21,
   "id": "5691caec",
   "metadata": {},
   "outputs": [
    {
     "name": "stdout",
     "output_type": "stream",
     "text": [
      "ajay is oldest\n"
     ]
    }
   ],
   "source": [
    "#elif\n",
    "\n",
    "john = int(input('Enter john age'))\n",
    "smith = int(input('Enter smith age'))\n",
    "ajay = int(input('Enter ajay age'))\n",
    "\n",
    "if john > smith and john>ajay:\n",
    "    print('john is oldest')\n",
    "elif smith > ajay:\n",
    "    print ('smith is oldest')\n",
    "else:\n",
    "    print('ajay is oldest')\n",
    "    \n"
   ]
  },
  {
   "cell_type": "code",
   "execution_count": null,
   "id": "067de334",
   "metadata": {},
   "outputs": [
    {
     "name": "stdout",
     "output_type": "stream",
     "text": [
      "6000.0\n"
     ]
    }
   ],
   "source": [
    "amt = float(input('Enter amount'))\n",
    "\n",
    "if amt <=1000:\n",
    "    disc= amt*10/100\n",
    "  \n",
    "\n",
    "elif amt>1000 and amt <=5000:\n",
    "    disc= amt*20/100\n",
    "\n",
    "\n",
    "elif amt<5000 and amt <=10000:\n",
    "    disc= amt*30/100\n",
    " \n",
    "\n",
    "else: \n",
    "    disc= amt*50/100\n",
    "   \n",
    "discamt= amt-disc\n",
    "\n",
    "print('Pay', discamt)\n",
    "\n"
   ]
  },
  {
   "cell_type": "code",
   "execution_count": null,
   "id": "c0188975",
   "metadata": {},
   "outputs": [],
   "source": [
    "day = int(input('Enter a day number'))\n",
    "\n",
    "if day==1:\n",
    "    print('Sunday')\n",
    "\n",
    "elif day==2:\n",
    "    print('Monday')\n",
    "\n",
    "elif day==3:\n",
    "    print('Tuesday')\n",
    "\n",
    "elif day==4:\n",
    "    print('wednesday')\n",
    "\n",
    "elif day==5:\n",
    "    print('Thursday')\n",
    "\n",
    "elif day==6:\n",
    "    print('Friday')\n",
    "\n",
    "elif day==7:\n",
    "    print('Saturday')\n",
    "\n",
    "else:\n",
    "    print('Invalid')\n",
    "    "
   ]
  },
  {
   "cell_type": "code",
   "execution_count": 7,
   "id": "b95833df",
   "metadata": {},
   "outputs": [
    {
     "name": "stdout",
     "output_type": "stream",
     "text": [
      "Not a leap year\n"
     ]
    }
   ],
   "source": [
    "year = int(input(\"Enter a year\"))\n",
    " \n",
    "if year%100 == 0:\n",
    "    if year %400==0 :\n",
    "        print('Leap year')\n",
    "    else:\n",
    "        print('Not a leap year')\n",
    "\n",
    "elif year%4 == 0:\n",
    "    print('Leap year')\n",
    "else:\n",
    "    print('not a leap year')\n",
    "\n",
    "\n"
   ]
  }
 ],
 "metadata": {
  "kernelspec": {
   "display_name": ".venv",
   "language": "python",
   "name": "python3"
  },
  "language_info": {
   "codemirror_mode": {
    "name": "ipython",
    "version": 3
   },
   "file_extension": ".py",
   "mimetype": "text/x-python",
   "name": "python",
   "nbconvert_exporter": "python",
   "pygments_lexer": "ipython3",
   "version": "3.13.3"
  }
 },
 "nbformat": 4,
 "nbformat_minor": 5
}
