{
 "cells": [
  {
   "cell_type": "code",
   "execution_count": 11,
   "id": "6f9f905d",
   "metadata": {},
   "outputs": [
    {
     "name": "stdout",
     "output_type": "stream",
     "text": [
      "value of x 1 value of y 1 value of z 1 value of a 1\n",
      "value of x 1 value of y 1 value of z 1 value of a 2\n",
      "value of x 1 value of y 1 value of z 2 value of a 1\n",
      "value of x 1 value of y 1 value of z 2 value of a 2\n",
      "value of x 1 value of y 2 value of z 1 value of a 1\n",
      "value of x 1 value of y 2 value of z 1 value of a 2\n",
      "value of x 1 value of y 2 value of z 2 value of a 1\n",
      "value of x 1 value of y 2 value of z 2 value of a 2\n",
      "value of x 2 value of y 1 value of z 1 value of a 1\n",
      "value of x 2 value of y 1 value of z 1 value of a 2\n",
      "value of x 2 value of y 1 value of z 2 value of a 1\n",
      "value of x 2 value of y 1 value of z 2 value of a 2\n",
      "value of x 2 value of y 2 value of z 1 value of a 1\n",
      "value of x 2 value of y 2 value of z 1 value of a 2\n",
      "value of x 2 value of y 2 value of z 2 value of a 1\n",
      "value of x 2 value of y 2 value of z 2 value of a 2\n",
      "vamika\n"
     ]
    }
   ],
   "source": [
    "def maxVal(l:list):\n",
    "    \n",
    "    \n",
    "    for x in l :\n",
    "        for y in l :\n",
    "            for z in l :\n",
    "                for a in l:\n",
    "                    print(\"value of x\", x, \"value of y\", y, \"value of z\", z, \"value of a\", a)\n",
    "\n",
    "            \n",
    "\n",
    "    return \"vamika\"  \n",
    "l=[1,2] \n",
    "print(maxVal(l))\n",
    "\n"
   ]
  },
  {
   "cell_type": "code",
   "execution_count": 22,
   "id": "e2b920fb",
   "metadata": {},
   "outputs": [
    {
     "name": "stdout",
     "output_type": "stream",
     "text": [
      "3 3 3 \n",
      "\n",
      "3 3 3 \n",
      "\n",
      "3 3 3 \n",
      "\n"
     ]
    }
   ],
   "source": [
    "def create_matrix(n):\n",
    "    if n<2:\n",
    "        print('invalid input')\n",
    "    else:\n",
    "        for i in range(1,n+1):\n",
    "        \n",
    "            for j in range(1, n+1):\n",
    "        \n",
    "                print(n,end=\" \")\n",
    "            print(\"\\n\")     \n",
    "n=3\n",
    "create_matrix(n)\n",
    "\n"
   ]
  }
 ],
 "metadata": {
  "kernelspec": {
   "display_name": ".venv",
   "language": "python",
   "name": "python3"
  },
  "language_info": {
   "codemirror_mode": {
    "name": "ipython",
    "version": 3
   },
   "file_extension": ".py",
   "mimetype": "text/x-python",
   "name": "python",
   "nbconvert_exporter": "python",
   "pygments_lexer": "ipython3",
   "version": "3.13.3"
  }
 },
 "nbformat": 4,
 "nbformat_minor": 5
}
