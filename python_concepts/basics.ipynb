{
 "cells": [
  {
   "cell_type": "markdown",
   "id": "5c4bcf00",
   "metadata": {},
   "source": [
    "# What Is Python?\n",
    "Python is a high-level, interpreted, and general-purpose programming language. It focuses on readability and simplicity."
   ]
  },
  {
   "cell_type": "code",
   "execution_count": 2,
   "id": "b42a91d6",
   "metadata": {},
   "outputs": [
    {
     "name": "stdout",
     "output_type": "stream",
     "text": [
      "hello world\n"
     ]
    }
   ],
   "source": [
    "print('hello world')"
   ]
  },
  {
   "cell_type": "markdown",
   "id": "53ad2ace",
   "metadata": {},
   "source": [
    "Sure! Here's a list of the **main data types in Python**, along with **examples** for each:\n",
    "\n",
    "---\n",
    "\n",
    "## 🧾 **1. Text Type**\n",
    "\n",
    "### ✅ `str` (String)\n",
    "\n",
    "```python\n",
    "name = \"Alice\"\n",
    "greeting = 'Hello'\n",
    "```\n",
    "\n",
    "---\n",
    "\n",
    "## 🔢 **2. Numeric Types**\n",
    "\n",
    "### ✅ `int` (Integer)\n",
    "\n",
    "```python\n",
    "age = 30\n",
    "year = 2025\n",
    "```\n",
    "\n",
    "### ✅ `float` (Floating-point number)\n",
    "\n",
    "```python\n",
    "price = 19.99\n",
    "temperature = -5.5\n",
    "```\n",
    "\n",
    "### ✅ `complex` (Complex number)\n",
    "\n",
    "```python\n",
    "z = 3 + 4j\n",
    "```\n",
    "\n",
    "---\n",
    "\n",
    "## ✅ **3. Sequence Types**\n",
    "\n",
    "### ✅ `list`\n",
    "\n",
    "```python\n",
    "fruits = [\"apple\", \"banana\", \"cherry\"]\n",
    "```\n",
    "\n",
    "### ✅ `tuple`\n",
    "\n",
    "```python\n",
    "coordinates = (10.0, 20.0)\n",
    "```\n",
    "\n",
    "### ✅ `range`\n",
    "\n",
    "```python\n",
    "numbers = range(5)  # 0 to 4\n",
    "```\n",
    "\n",
    "---\n",
    "\n",
    "## 🧱 **4. Mapping Type**\n",
    "\n",
    "### ✅ `dict` (Dictionary)\n",
    "\n",
    "```python\n",
    "person = {\"name\": \"Alice\", \"age\": 30}\n",
    "```\n",
    "\n",
    "---\n",
    "\n",
    "## ✅ **5. Set Types**\n",
    "\n",
    "### ✅ `set`\n",
    "\n",
    "```python\n",
    "unique_numbers = {1, 2, 3, 4}\n",
    "```\n",
    "\n",
    "### ✅ `frozenset`\n",
    "\n",
    "```python\n",
    "frozen = frozenset([1, 2, 3])\n",
    "```\n",
    "\n",
    "---\n",
    "\n",
    "## ⚙️ **6. Boolean Type**\n",
    "\n",
    "### ✅ `bool`\n",
    "\n",
    "```python\n",
    "is_active = True\n",
    "has_permission = False\n",
    "```\n",
    "\n",
    "---\n",
    "\n",
    "## 🧊 **7. Binary Types**\n",
    "\n",
    "### ✅ `bytes`\n",
    "\n",
    "```python\n",
    "data = b\"hello\"\n",
    "```\n",
    "\n",
    "### ✅ `bytearray`\n",
    "\n",
    "```python\n",
    "mutable_data = bytearray([65, 66, 67])\n",
    "```\n",
    "\n",
    "### ✅ `memoryview`\n",
    "\n",
    "```python\n",
    "mem_view = memoryview(b\"abc\")\n",
    "```\n",
    "\n",
    "---\n",
    "\n",
    "## 🈳 **8. None Type**\n",
    "\n",
    "### ✅ `NoneType`\n",
    "\n",
    "```python\n",
    "result = None\n",
    "```\n",
    "\n",
    "---\n",
    "\n",
    "Would you like a cheat sheet or table summarizing these?\n"
   ]
  },
  {
   "cell_type": "markdown",
   "id": "ef2f7f8c",
   "metadata": {},
   "source": [
    "| Data Type     | Example                  | Typical Storage (64-bit CPython)   | Value Range / Notes                                                                 |\n",
    "|---------------|--------------------------|------------------------------------|--------------------------------------------------------------------------------------|\n",
    "| `int`         | `x = 42`                 | ≥ 28 bytes                         | Arbitrary-precision integers (limited only by memory)                               |\n",
    "| `float`       | `x = 3.14`               | 24 bytes                           | ±1.8 × 10^308 (IEEE 754 double-precision)                                            |\n",
    "| `complex`     | `x = 3 + 4j`             | 32 bytes                           | Real and imaginary parts: each same range as `float`                                |\n",
    "| `bool`        | `x = True`               | 28 bytes                           | `True` (1), `False` (0)                                                              |\n",
    "| `str`         | `x = \"hello\"`            | 49 bytes + ~1–4 bytes/char         | No fixed max length, depends on memory; Unicode characters                          |\n",
    "| `list`        | `x = [1, 2, 3]`          | 64 bytes + 8 bytes/item (ptr)      | Dynamic size; limited by available memory                                            |\n",
    "| `tuple`       | `x = (1, 2)`             | 48 bytes + 8 bytes/item (ptr)      | Fixed size after creation; efficient memory-wise                                     |\n",
    "| `set`         | `x = {1, 2, 3}`          | ~232 bytes for small sets          | No duplicates; scales with elements; based on hash tables                            |\n",
    "| `dict`        | `x = {\"a\": 1}`           | ~240 bytes for 1 key-value pair    | Scales dynamically; efficient lookup and insert via hashing                          |\n",
    "| `bytes`       | `x = b\"hi\"`              | 33 bytes + 1 byte per character    | Immutable sequence of bytes; each byte: 0–255                                        |\n",
    "| `bytearray`   | `x = bytearray(3)`       | Similar to `bytes`, but mutable    | Mutable version of bytes; same byte range (0–255)                                    |\n",
    "| `memoryview`  | `memoryview(b\"abc\")`     | Lightweight (minimal overhead)     | View over bytes, bytearray, or other buffer-supporting object; no range of its own  |\n",
    "| `NoneType`    | `x = None`               | 16 bytes                           | Singleton (`None`); only one possible value                                          |\n"
   ]
  },
  {
   "cell_type": "code",
   "execution_count": 7,
   "id": "b0ffd3cd",
   "metadata": {},
   "outputs": [
    {
     "name": "stdout",
     "output_type": "stream",
     "text": [
      "12\n",
      "<class 'int'>\n"
     ]
    }
   ],
   "source": [
    "num = 12\n",
    "print(num)\n",
    "print(type(num))"
   ]
  },
  {
   "cell_type": "code",
   "execution_count": 9,
   "id": "1f18c0fb",
   "metadata": {},
   "outputs": [
    {
     "name": "stdout",
     "output_type": "stream",
     "text": [
      "3.14\n",
      "<class 'float'>\n"
     ]
    }
   ],
   "source": [
    "my_float_num = 3.14\n",
    "print(my_float_num)\n",
    "print(type(my_float_num))"
   ]
  },
  {
   "cell_type": "code",
   "execution_count": 10,
   "id": "6b669520",
   "metadata": {},
   "outputs": [
    {
     "name": "stdout",
     "output_type": "stream",
     "text": [
      "(4-5j)\n",
      "<class 'complex'>\n"
     ]
    }
   ],
   "source": [
    "my_complex_num = 4-5j\n",
    "print(my_complex_num)\n",
    "print(type(my_complex_num))"
   ]
  },
  {
   "cell_type": "code",
   "execution_count": 12,
   "id": "1c333785",
   "metadata": {},
   "outputs": [
    {
     "name": "stdout",
     "output_type": "stream",
     "text": [
      "True\n",
      "<class 'bool'>\n"
     ]
    }
   ],
   "source": [
    "my_boolean_value = True\n",
    "print(my_boolean_value)\n",
    "print(type(my_boolean_value))"
   ]
  },
  {
   "cell_type": "code",
   "execution_count": 13,
   "id": "555a90bf",
   "metadata": {},
   "outputs": [
    {
     "name": "stdout",
     "output_type": "stream",
     "text": [
      "Vamika\n",
      "<class 'str'>\n"
     ]
    }
   ],
   "source": [
    "my_str = 'Vamika'\n",
    "print(my_str)\n",
    "print(type(my_str))"
   ]
  },
  {
   "cell_type": "code",
   "execution_count": 14,
   "id": "1900d158",
   "metadata": {},
   "outputs": [
    {
     "name": "stdout",
     "output_type": "stream",
     "text": [
      "['Vamika', 'Harsh']\n",
      "<class 'list'>\n"
     ]
    }
   ],
   "source": [
    "my_list = ['Vamika','Harsh']\n",
    "print(my_list)\n",
    "print(type(my_list))"
   ]
  },
  {
   "cell_type": "code",
   "execution_count": 15,
   "id": "831e1724",
   "metadata": {},
   "outputs": [
    {
     "name": "stdout",
     "output_type": "stream",
     "text": [
      "(1, 2, 3)\n",
      "<class 'tuple'>\n"
     ]
    }
   ],
   "source": [
    "my_tuple = (1,2,3)\n",
    "print(my_tuple)\n",
    "print(type(my_tuple))"
   ]
  },
  {
   "cell_type": "code",
   "execution_count": 16,
   "id": "cc91f701",
   "metadata": {},
   "outputs": [
    {
     "name": "stdout",
     "output_type": "stream",
     "text": [
      "{1, 2, 3}\n",
      "<class 'set'>\n"
     ]
    }
   ],
   "source": [
    "my_set = {1,2,3}\n",
    "print(my_set)\n",
    "print(type(my_set))"
   ]
  },
  {
   "cell_type": "code",
   "execution_count": 17,
   "id": "c08ca678",
   "metadata": {},
   "outputs": [
    {
     "name": "stdout",
     "output_type": "stream",
     "text": [
      "{'vamika': 26}\n",
      "<class 'dict'>\n"
     ]
    }
   ],
   "source": [
    "my_dict = {'vamika':26}\n",
    "print(my_dict)\n",
    "print(type(my_dict))"
   ]
  },
  {
   "cell_type": "code",
   "execution_count": 18,
   "id": "cd48e12d",
   "metadata": {},
   "outputs": [
    {
     "name": "stdout",
     "output_type": "stream",
     "text": [
      "b'hello'\n",
      "<class 'bytes'>\n"
     ]
    }
   ],
   "source": [
    "my_bytes = b\"hello\"\n",
    "print(my_bytes)\n",
    "print(type(my_bytes))"
   ]
  },
  {
   "cell_type": "code",
   "execution_count": null,
   "id": "a77cb85d",
   "metadata": {},
   "outputs": [
    {
     "name": "stdout",
     "output_type": "stream",
     "text": [
      "bytearray(b'ABC')\n",
      "<class 'bytearray'>\n"
     ]
    }
   ],
   "source": [
    "my_bytearray = bytearray([65, 66, 67])  # ASCII for 'A', 'B', 'C'\n",
    "print(my_bytearray)\n",
    "print(type(my_bytearray)) "
   ]
  },
  {
   "cell_type": "code",
   "execution_count": 23,
   "id": "109debb6",
   "metadata": {},
   "outputs": [
    {
     "name": "stdout",
     "output_type": "stream",
     "text": [
      "104\n",
      "bytearray(b'Hello')\n",
      "<class 'memoryview'>\n"
     ]
    }
   ],
   "source": [
    "data = bytearray(b\"hello\")\n",
    "mv = memoryview(data)\n",
    "\n",
    "print(mv[0])        # 104 (ASCII for 'h')\n",
    "\n",
    "# Modify the original data through memoryview\n",
    "mv[0] = 72          # ASCII for 'H'\n",
    "\n",
    "print(data)         # bytearray(b'Hello')\n",
    "print(type(mv))\n"
   ]
  },
  {
   "cell_type": "code",
   "execution_count": 24,
   "id": "b7337aea",
   "metadata": {},
   "outputs": [
    {
     "name": "stdout",
     "output_type": "stream",
     "text": [
      "None\n",
      "<class 'NoneType'>\n"
     ]
    }
   ],
   "source": [
    "my_none=None\n",
    "print(my_none)\n",
    "print(type(my_none))"
   ]
  },
  {
   "cell_type": "markdown",
   "id": "d3e90392",
   "metadata": {},
   "source": [
    "| Category          | Data Type        | Description                                 | Example                        | Mutability     |\n",
    "|-------------------|------------------|---------------------------------------------|--------------------------------|----------------|\n",
    "| Text Type         | `str`            | Immutable sequence of Unicode characters    | `\"hello\"`                      | Immutable      |\n",
    "| Numeric Types     | `int`            | Integer values (arbitrary precision)        | `42`                           | Immutable      |\n",
    "|                   | `float`          | Floating-point numbers                      | `3.14`                         | Immutable      |\n",
    "|                   | `complex`        | Complex numbers                             | `2 + 3j`                       | Immutable      |\n",
    "| Sequence Types    | `list`           | Mutable ordered sequence                    | `[1, 2, 3]`                    | Mutable        |\n",
    "|                   | `tuple`          | Immutable ordered sequence                  | `(1, 2, 3)`                    | Immutable      |\n",
    "|                   | `range`          | Sequence of numbers                         | `range(0, 10)`                 | Immutable      |\n",
    "| Mapping Type      | `dict`           | Key-value pairs                             | `{\"name\": \"Alice\"}`           | Mutable        |\n",
    "| Set Types         | `set`            | Unordered, unique items                     | `{1, 2, 3}`                    | Mutable        |\n",
    "|                   | `frozenset`      | Immutable version of a set                  | `frozenset([1, 2, 3])`         | Immutable      |\n",
    "| Boolean Type      | `bool`           | Boolean values                              | `True`, `False`                | Immutable      |\n",
    "| Binary Types      | `bytes`          | Immutable sequence of bytes                 | `b\"data\"`                      | Immutable      |\n",
    "|                   | `bytearray`      | Mutable sequence of bytes                   | `bytearray(b\"data\")`          | Mutable        |\n",
    "|                   | `memoryview`     | View of binary data without copying         | `memoryview(b\"abc\")`          | Depends (view) |\n",
    "| None Type         | `NoneType`       | Represents the absence of value             | `None`                         | Immutable      |\n"
   ]
  }
 ],
 "metadata": {
  "kernelspec": {
   "display_name": ".venv",
   "language": "python",
   "name": "python3"
  },
  "language_info": {
   "codemirror_mode": {
    "name": "ipython",
    "version": 3
   },
   "file_extension": ".py",
   "mimetype": "text/x-python",
   "name": "python",
   "nbconvert_exporter": "python",
   "pygments_lexer": "ipython3",
   "version": "3.13.3"
  }
 },
 "nbformat": 4,
 "nbformat_minor": 5
}
