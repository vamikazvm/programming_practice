{
 "cells": [
  {
   "cell_type": "markdown",
   "id": "5c4bcf00",
   "metadata": {},
   "source": [
    "# What Is Python?\n",
    "Python is a high-level, interpreted, and general-purpose programming language. It focuses on readability and simplicity."
   ]
  },
  {
   "cell_type": "code",
   "execution_count": 2,
   "id": "b42a91d6",
   "metadata": {},
   "outputs": [
    {
     "name": "stdout",
     "output_type": "stream",
     "text": [
      "hello world\n"
     ]
    }
   ],
   "source": [
    "print('hello world')"
   ]
  },
  {
   "cell_type": "markdown",
   "id": "53ad2ace",
   "metadata": {},
   "source": [
    "Sure! Here's a list of the **main data types in Python**, along with **examples** for each:\n",
    "\n",
    "---\n",
    "\n",
    "## 🧾 **1. Text Type**\n",
    "\n",
    "### ✅ `str` (String)\n",
    "\n",
    "```python\n",
    "name = \"Alice\"\n",
    "greeting = 'Hello'\n",
    "```\n",
    "\n",
    "---\n",
    "\n",
    "## 🔢 **2. Numeric Types**\n",
    "\n",
    "### ✅ `int` (Integer)\n",
    "\n",
    "```python\n",
    "age = 30\n",
    "year = 2025\n",
    "```\n",
    "\n",
    "### ✅ `float` (Floating-point number)\n",
    "\n",
    "```python\n",
    "price = 19.99\n",
    "temperature = -5.5\n",
    "```\n",
    "\n",
    "### ✅ `complex` (Complex number)\n",
    "\n",
    "```python\n",
    "z = 3 + 4j\n",
    "```\n",
    "\n",
    "---\n",
    "\n",
    "## ✅ **3. Sequence Types**\n",
    "\n",
    "### ✅ `list`\n",
    "\n",
    "```python\n",
    "fruits = [\"apple\", \"banana\", \"cherry\"]\n",
    "```\n",
    "\n",
    "### ✅ `tuple`\n",
    "\n",
    "```python\n",
    "coordinates = (10.0, 20.0)\n",
    "```\n",
    "\n",
    "### ✅ `range`\n",
    "\n",
    "```python\n",
    "numbers = range(5)  # 0 to 4\n",
    "```\n",
    "\n",
    "---\n",
    "\n",
    "## 🧱 **4. Mapping Type**\n",
    "\n",
    "### ✅ `dict` (Dictionary)\n",
    "\n",
    "```python\n",
    "person = {\"name\": \"Alice\", \"age\": 30}\n",
    "```\n",
    "\n",
    "---\n",
    "\n",
    "## ✅ **5. Set Types**\n",
    "\n",
    "### ✅ `set`\n",
    "\n",
    "```python\n",
    "unique_numbers = {1, 2, 3, 4}\n",
    "```\n",
    "\n",
    "### ✅ `frozenset`\n",
    "\n",
    "```python\n",
    "frozen = frozenset([1, 2, 3])\n",
    "```\n",
    "\n",
    "---\n",
    "\n",
    "## ⚙️ **6. Boolean Type**\n",
    "\n",
    "### ✅ `bool`\n",
    "\n",
    "```python\n",
    "is_active = True\n",
    "has_permission = False\n",
    "```\n",
    "\n",
    "---\n",
    "\n",
    "## 🧊 **7. Binary Types**\n",
    "\n",
    "### ✅ `bytes`\n",
    "\n",
    "```python\n",
    "data = b\"hello\"\n",
    "```\n",
    "\n",
    "### ✅ `bytearray`\n",
    "\n",
    "```python\n",
    "mutable_data = bytearray([65, 66, 67])\n",
    "```\n",
    "\n",
    "### ✅ `memoryview`\n",
    "\n",
    "```python\n",
    "mem_view = memoryview(b\"abc\")\n",
    "```\n",
    "\n",
    "---\n",
    "\n",
    "## 🈳 **8. None Type**\n",
    "\n",
    "### ✅ `NoneType`\n",
    "\n",
    "```python\n",
    "result = None\n",
    "```\n",
    "\n",
    "---\n",
    "\n",
    "Would you like a cheat sheet or table summarizing these?\n"
   ]
  },
  {
   "cell_type": "markdown",
   "id": "ef2f7f8c",
   "metadata": {},
   "source": [
    "| Data Type     | Example                  | Typical Storage (64-bit CPython)   | Value Range / Notes                                                                 |\n",
    "|---------------|--------------------------|------------------------------------|--------------------------------------------------------------------------------------|\n",
    "| `int`         | `x = 42`                 | ≥ 28 bytes                         | Arbitrary-precision integers (limited only by memory)                               |\n",
    "| `float`       | `x = 3.14`               | 24 bytes                           | ±1.8 × 10^308 (IEEE 754 double-precision)                                            |\n",
    "| `complex`     | `x = 3 + 4j`             | 32 bytes                           | Real and imaginary parts: each same range as `float`                                |\n",
    "| `bool`        | `x = True`               | 28 bytes                           | `True` (1), `False` (0)                                                              |\n",
    "| `str`         | `x = \"hello\"`            | 49 bytes + ~1–4 bytes/char         | No fixed max length, depends on memory; Unicode characters                          |\n",
    "| `list`        | `x = [1, 2, 3]`          | 64 bytes + 8 bytes/item (ptr)      | Dynamic size; limited by available memory                                            |\n",
    "| `tuple`       | `x = (1, 2)`             | 48 bytes + 8 bytes/item (ptr)      | Fixed size after creation; efficient memory-wise                                     |\n",
    "| `set`         | `x = {1, 2, 3}`          | ~232 bytes for small sets          | No duplicates; scales with elements; based on hash tables                            |\n",
    "| `dict`        | `x = {\"a\": 1}`           | ~240 bytes for 1 key-value pair    | Scales dynamically; efficient lookup and insert via hashing                          |\n",
    "| `bytes`       | `x = b\"hi\"`              | 33 bytes + 1 byte per character    | Immutable sequence of bytes; each byte: 0–255                                        |\n",
    "| `bytearray`   | `x = bytearray(3)`       | Similar to `bytes`, but mutable    | Mutable version of bytes; same byte range (0–255)                                    |\n",
    "| `memoryview`  | `memoryview(b\"abc\")`     | Lightweight (minimal overhead)     | View over bytes, bytearray, or other buffer-supporting object; no range of its own  |\n",
    "| `NoneType`    | `x = None`               | 16 bytes                           | Singleton (`None`); only one possible value                                          |\n"
   ]
  },
  {
   "cell_type": "code",
   "execution_count": 7,
   "id": "b0ffd3cd",
   "metadata": {},
   "outputs": [
    {
     "name": "stdout",
     "output_type": "stream",
     "text": [
      "12\n",
      "<class 'int'>\n"
     ]
    }
   ],
   "source": [
    "num = 12\n",
    "print(num)\n",
    "print(type(num))"
   ]
  },
  {
   "cell_type": "code",
   "execution_count": 9,
   "id": "1f18c0fb",
   "metadata": {},
   "outputs": [
    {
     "name": "stdout",
     "output_type": "stream",
     "text": [
      "3.14\n",
      "<class 'float'>\n"
     ]
    }
   ],
   "source": [
    "my_float_num = 3.14\n",
    "print(my_float_num)\n",
    "print(type(my_float_num))"
   ]
  },
  {
   "cell_type": "code",
   "execution_count": 10,
   "id": "6b669520",
   "metadata": {},
   "outputs": [
    {
     "name": "stdout",
     "output_type": "stream",
     "text": [
      "(4-5j)\n",
      "<class 'complex'>\n"
     ]
    }
   ],
   "source": [
    "my_complex_num = 4-5j\n",
    "print(my_complex_num)\n",
    "print(type(my_complex_num))"
   ]
  },
  {
   "cell_type": "code",
   "execution_count": 12,
   "id": "1c333785",
   "metadata": {},
   "outputs": [
    {
     "name": "stdout",
     "output_type": "stream",
     "text": [
      "True\n",
      "<class 'bool'>\n"
     ]
    }
   ],
   "source": [
    "my_boolean_value = True\n",
    "print(my_boolean_value)\n",
    "print(type(my_boolean_value))"
   ]
  },
  {
   "cell_type": "code",
   "execution_count": 13,
   "id": "555a90bf",
   "metadata": {},
   "outputs": [
    {
     "name": "stdout",
     "output_type": "stream",
     "text": [
      "Vamika\n",
      "<class 'str'>\n"
     ]
    }
   ],
   "source": [
    "my_str = 'Vamika'\n",
    "print(my_str)\n",
    "print(type(my_str))"
   ]
  },
  {
   "cell_type": "code",
   "execution_count": 14,
   "id": "1900d158",
   "metadata": {},
   "outputs": [
    {
     "name": "stdout",
     "output_type": "stream",
     "text": [
      "['Vamika', 'Harsh']\n",
      "<class 'list'>\n"
     ]
    }
   ],
   "source": [
    "my_list = ['Vamika','Harsh']\n",
    "print(my_list)\n",
    "print(type(my_list))"
   ]
  },
  {
   "cell_type": "code",
   "execution_count": 15,
   "id": "831e1724",
   "metadata": {},
   "outputs": [
    {
     "name": "stdout",
     "output_type": "stream",
     "text": [
      "(1, 2, 3)\n",
      "<class 'tuple'>\n"
     ]
    }
   ],
   "source": [
    "my_tuple = (1,2,3)\n",
    "print(my_tuple)\n",
    "print(type(my_tuple))"
   ]
  },
  {
   "cell_type": "code",
   "execution_count": 16,
   "id": "cc91f701",
   "metadata": {},
   "outputs": [
    {
     "name": "stdout",
     "output_type": "stream",
     "text": [
      "{1, 2, 3}\n",
      "<class 'set'>\n"
     ]
    }
   ],
   "source": [
    "my_set = {1,2,3}\n",
    "print(my_set)\n",
    "print(type(my_set))"
   ]
  },
  {
   "cell_type": "code",
   "execution_count": 17,
   "id": "c08ca678",
   "metadata": {},
   "outputs": [
    {
     "name": "stdout",
     "output_type": "stream",
     "text": [
      "{'vamika': 26}\n",
      "<class 'dict'>\n"
     ]
    }
   ],
   "source": [
    "my_dict = {'vamika':26}\n",
    "print(my_dict)\n",
    "print(type(my_dict))"
   ]
  },
  {
   "cell_type": "code",
   "execution_count": 18,
   "id": "cd48e12d",
   "metadata": {},
   "outputs": [
    {
     "name": "stdout",
     "output_type": "stream",
     "text": [
      "b'hello'\n",
      "<class 'bytes'>\n"
     ]
    }
   ],
   "source": [
    "my_bytes = b\"hello\"\n",
    "print(my_bytes)\n",
    "print(type(my_bytes))"
   ]
  },
  {
   "cell_type": "code",
   "execution_count": null,
   "id": "a77cb85d",
   "metadata": {},
   "outputs": [
    {
     "name": "stdout",
     "output_type": "stream",
     "text": [
      "bytearray(b'ABC')\n",
      "<class 'bytearray'>\n"
     ]
    }
   ],
   "source": [
    "my_bytearray = bytearray([65, 66, 67])  # ASCII for 'A', 'B', 'C'\n",
    "print(my_bytearray)\n",
    "print(type(my_bytearray)) "
   ]
  },
  {
   "cell_type": "code",
   "execution_count": 23,
   "id": "109debb6",
   "metadata": {},
   "outputs": [
    {
     "name": "stdout",
     "output_type": "stream",
     "text": [
      "104\n",
      "bytearray(b'Hello')\n",
      "<class 'memoryview'>\n"
     ]
    }
   ],
   "source": [
    "data = bytearray(b\"hello\")\n",
    "mv = memoryview(data)\n",
    "\n",
    "print(mv[0])        # 104 (ASCII for 'h')\n",
    "\n",
    "# Modify the original data through memoryview\n",
    "mv[0] = 72          # ASCII for 'H'\n",
    "\n",
    "print(data)         # bytearray(b'Hello')\n",
    "print(type(mv))\n"
   ]
  },
  {
   "cell_type": "code",
   "execution_count": 24,
   "id": "b7337aea",
   "metadata": {},
   "outputs": [
    {
     "name": "stdout",
     "output_type": "stream",
     "text": [
      "None\n",
      "<class 'NoneType'>\n"
     ]
    }
   ],
   "source": [
    "my_none=None\n",
    "print(my_none)\n",
    "print(type(my_none))"
   ]
  },
  {
   "cell_type": "markdown",
   "id": "d3e90392",
   "metadata": {},
   "source": [
    "| Category          | Data Type        | Description                                 | Example                        | Mutability     |\n",
    "|-------------------|------------------|---------------------------------------------|--------------------------------|----------------|\n",
    "| Text Type         | `str`            | Immutable sequence of Unicode characters    | `\"hello\"`                      | Immutable      |\n",
    "| Numeric Types     | `int`            | Integer values (arbitrary precision)        | `42`                           | Immutable      |\n",
    "|                   | `float`          | Floating-point numbers                      | `3.14`                         | Immutable      |\n",
    "|                   | `complex`        | Complex numbers                             | `2 + 3j`                       | Immutable      |\n",
    "| Sequence Types    | `list`           | Mutable ordered sequence                    | `[1, 2, 3]`                    | Mutable        |\n",
    "|                   | `tuple`          | Immutable ordered sequence                  | `(1, 2, 3)`                    | Immutable      |\n",
    "|                   | `range`          | Sequence of numbers                         | `range(0, 10)`                 | Immutable      |\n",
    "| Mapping Type      | `dict`           | Key-value pairs                             | `{\"name\": \"Alice\"}`           | Mutable        |\n",
    "| Set Types         | `set`            | Unordered, unique items                     | `{1, 2, 3}`                    | Mutable        |\n",
    "|                   | `frozenset`      | Immutable version of a set                  | `frozenset([1, 2, 3])`         | Immutable      |\n",
    "| Boolean Type      | `bool`           | Boolean values                              | `True`, `False`                | Immutable      |\n",
    "| Binary Types      | `bytes`          | Immutable sequence of bytes                 | `b\"data\"`                      | Immutable      |\n",
    "|                   | `bytearray`      | Mutable sequence of bytes                   | `bytearray(b\"data\")`          | Mutable        |\n",
    "|                   | `memoryview`     | View of binary data without copying         | `memoryview(b\"abc\")`          | Depends (view) |\n",
    "| None Type         | `NoneType`       | Represents the absence of value             | `None`                         | Immutable      |\n"
   ]
  },
  {
   "cell_type": "code",
   "execution_count": 5,
   "id": "9c5b129e",
   "metadata": {},
   "outputs": [
    {
     "name": "stdout",
     "output_type": "stream",
     "text": [
      "[10, 20, 30, 40, 50]\n",
      "20\n",
      "30\n",
      "40\n",
      "50\n",
      "50\n",
      "40\n",
      "30\n",
      "20\n"
     ]
    }
   ],
   "source": [
    "l = [10,20,30,40,50]\n",
    "print(l)\n",
    "print(l[1])\n",
    "print(l[2])\n",
    "print(l[3])\n",
    "print(l[4])\n",
    "print(l[-1])\n",
    "print(l[-2])\n",
    "print(l[-3])\n",
    "print(l[-4])"
   ]
  },
  {
   "cell_type": "markdown",
   "id": "15a8ecea",
   "metadata": {},
   "source": [
    "Here's a comprehensive **Markdown** guide listing the most commonly used **Python list methods**, each with a brief explanation and example:\n",
    "\n",
    "---\n",
    "\n",
    "# 📋 Python List Methods with Examples\n",
    "\n",
    "## 1. `append()`\n",
    "\n",
    "Adds a single element to the end of the list.\n",
    "\n",
    "```python\n",
    "lst = [1, 2]\n",
    "lst.append(3)\n",
    "print(lst)  # [1, 2, 3]\n",
    "```\n",
    "\n",
    "## 2. `extend()`\n",
    "\n",
    "Adds elements from another iterable (like list, tuple) to the end.\n",
    "\n",
    "```python\n",
    "lst = [1, 2]\n",
    "lst.extend([3, 4])\n",
    "print(lst)  # [1, 2, 3, 4]\n",
    "```\n",
    "\n",
    "## 3. `insert()`\n",
    "\n",
    "Inserts an element at a specified position.\n",
    "\n",
    "```python\n",
    "lst = [1, 3]\n",
    "lst.insert(1, 2)\n",
    "print(lst)  # [1, 2, 3]\n",
    "```\n",
    "\n",
    "## 4. `remove()`\n",
    "\n",
    "Removes the first occurrence of a value.\n",
    "\n",
    "```python\n",
    "lst = [1, 2, 3, 2]\n",
    "lst.remove(2)\n",
    "print(lst)  # [1, 3, 2]\n",
    "```\n",
    "\n",
    "## 5. `pop()`\n",
    "\n",
    "Removes and returns the element at the given index (default: last).\n",
    "\n",
    "```python\n",
    "lst = [1, 2, 3]\n",
    "item = lst.pop()\n",
    "print(item)  # 3\n",
    "print(lst)   # [1, 2]\n",
    "```\n",
    "\n",
    "## 6. `clear()`\n",
    "\n",
    "Removes all elements from the list.\n",
    "\n",
    "```python\n",
    "lst = [1, 2, 3]\n",
    "lst.clear()\n",
    "print(lst)  # []\n",
    "```\n",
    "\n",
    "## 7. `index()`\n",
    "\n",
    "Returns the index of the first occurrence of a value.\n",
    "\n",
    "```python\n",
    "lst = ['a', 'b', 'c']\n",
    "print(lst.index('b'))  # 1\n",
    "```\n",
    "\n",
    "## 8. `count()`\n",
    "\n",
    "Returns the number of times a value appears in the list.\n",
    "\n",
    "```python\n",
    "lst = [1, 2, 2, 3]\n",
    "print(lst.count(2))  # 2\n",
    "```\n",
    "\n",
    "## 9. `sort()`\n",
    "\n",
    "Sorts the list in ascending order (can take `reverse=True` and `key=`).\n",
    "\n",
    "```python\n",
    "lst = [3, 1, 2]\n",
    "lst.sort()\n",
    "print(lst)  # [1, 2, 3]\n",
    "```\n",
    "\n",
    "## 10. `reverse()`\n",
    "\n",
    "Reverses the order of elements in the list.\n",
    "\n",
    "```python\n",
    "lst = [1, 2, 3]\n",
    "lst.reverse()\n",
    "print(lst)  # [3, 2, 1]\n",
    "```\n",
    "\n",
    "## 11. `copy()`\n",
    "\n",
    "Returns a shallow copy of the list.\n",
    "\n",
    "```python\n",
    "lst = [1, 2, 3]\n",
    "new_lst = lst.copy()\n",
    "print(new_lst)  # [1, 2, 3]\n",
    "```\n",
    "\n",
    "| **Method**  | **Description**                                                                  | **Example**                         | **Output Example**     |\n",
    "| ----------- | -------------------------------------------------------------------------------- | ----------------------------------- | ---------------------- |\n",
    "| `append()`  | Adds an element to the end of the list.                                          | `lst.append(3)`                     | `[1, 2, 3]`            |\n",
    "| `extend()`  | Adds elements from another iterable to the list.                                 | `lst.extend([3, 4])`                | `[1, 2, 3, 4]`         |\n",
    "| `insert()`  | Inserts an element at a specific index.                                          | `lst.insert(1, 2)`                  | `[1, 2, 3]`            |\n",
    "| `remove()`  | Removes the first occurrence of a value.                                         | `lst.remove(2)`                     | `[1, 3]`               |\n",
    "| `pop()`     | Removes and returns the element at the given index (default: last).              | `item = lst.pop()`                  | `3`, `[1, 2]`          |\n",
    "| `clear()`   | Removes all elements from the list.                                              | `lst.clear()`                       | `[]`                   |\n",
    "| `index()`   | Returns the index of the first occurrence of a value.                            | `lst.index(2)`                      | `1`                    |\n",
    "| `count()`   | Returns the number of occurrences of a value.                                    | `lst.count(2)`                      | `2`                    |\n",
    "| `sort()`    | Sorts the list in ascending order.                                               | `lst.sort()`                        | `[1, 2, 3]`            |\n",
    "| `reverse()` | Reverses the order of elements in the list.                                      | `lst.reverse()`                     | `[3, 2, 1]`            |\n",
    "| `copy()`    | Returns a shallow copy of the list.                                              | `lst.copy()`                        | `[1, 2, 3]`            |\n",
    "| `del`       | Deletes an element at a specific index or a slice.                               | `del lst[1]`                        | `[1, 3, 4]`            |\n",
    "| `min()`     | Returns the smallest element in the list.                                        | `min(lst)`                          | `1`                    |\n",
    "| `max()`     | Returns the largest element in the list.                                         | `max(lst)`                          | `4`                    |\n",
    "| `sum()`     | Returns the sum of all elements in the list.                                     | `sum(lst)`                          | `10`                   |\n",
    "| `any()`     | Returns `True` if at least one element in the list is true.                      | `any(lst)`                          | `True`                 |\n",
    "| `all()`     | Returns `True` if all elements in the list are true.                             | `all(lst)`                          | `False`                |\n",
    "| `list()`    | Converts an iterable (e.g., tuple, string) into a list.                          | `list('abc')`                       | `['a', 'b', 'c']`      |\n",
    "| `zip()`     | Combines two or more lists into a list of tuples.                                | `zip([1, 2], ['a', 'b'])`           | `[(1, 'a'), (2, 'b')]` |\n",
    "| `filter()`  | Filters a list based on a function (returns items where the function is `True`). | `filter(lambda x: x % 2 == 0, lst)` | `[2, 4]`               |\n",
    "| `map()`     | Applies a function to all elements in an iterable and returns a list of results. | `map(lambda x: x ** 2, lst)`        | `[1, 4, 9, 16]`        |\n",
    "| `sorted()`  | Returns a sorted version of the list (does not modify the original list).        | `sorted(lst)`                       | `[1, 2, 3, 4]`         |\n",
    "\n"
   ]
  },
  {
   "cell_type": "markdown",
   "id": "e0a43f63",
   "metadata": {},
   "source": []
  },
  {
   "cell_type": "code",
   "execution_count": null,
   "id": "15b5ab7a",
   "metadata": {},
   "outputs": [
    {
     "name": "stdout",
     "output_type": "stream",
     "text": [
      "[10, 20, 30, 40, 50, 100]\n"
     ]
    }
   ],
   "source": [
    "l = [10,20,30,40,50]   # append function adds an item at the end of the list \n",
    "l.append(100)\n",
    "print(l)"
   ]
  },
  {
   "cell_type": "code",
   "execution_count": 48,
   "id": "8ab5f5f8",
   "metadata": {},
   "outputs": [
    {
     "name": "stdout",
     "output_type": "stream",
     "text": [
      "[10, 20, 30, 40, 50, 10, 30]\n"
     ]
    }
   ],
   "source": [
    "l = [10,20,30,40,50]   # append function adds an item at the end of the list \n",
    "l.extend([10,30])\n",
    "print(l)"
   ]
  },
  {
   "cell_type": "code",
   "execution_count": null,
   "id": "553ee985",
   "metadata": {},
   "outputs": [
    {
     "name": "stdout",
     "output_type": "stream",
     "text": [
      "[10, 100, 20, 30, 40, 50]\n"
     ]
    }
   ],
   "source": [
    "l = [10,20,30,40,50]   # .insert inserts a new value to the list\n",
    "l.insert(1,100)        # index, value \n",
    "print(l)"
   ]
  },
  {
   "cell_type": "code",
   "execution_count": null,
   "id": "0d327c31",
   "metadata": {},
   "outputs": [
    {
     "name": "stdout",
     "output_type": "stream",
     "text": [
      "True\n"
     ]
    }
   ],
   "source": [
    "l = [10,20,30,40,50]   # .insert finds if value is present in the list\n",
    "print(10 in l)"
   ]
  },
  {
   "cell_type": "code",
   "execution_count": null,
   "id": "41d139c1",
   "metadata": {},
   "outputs": [
    {
     "name": "stdout",
     "output_type": "stream",
     "text": [
      "1\n"
     ]
    }
   ],
   "source": [
    "l = [10,20,30,40,50]   #  .count finds no. of occurence of a value in the list\n",
    "print(l.count(10))"
   ]
  },
  {
   "cell_type": "code",
   "execution_count": 15,
   "id": "a0c29fd9",
   "metadata": {},
   "outputs": [
    {
     "name": "stdout",
     "output_type": "stream",
     "text": [
      "0\n"
     ]
    }
   ],
   "source": [
    "l = [10,10,20,30,40,50,30]   # .index() tells index of the first occurence of this item\n",
    "print(l.index(10))"
   ]
  },
  {
   "cell_type": "code",
   "execution_count": 17,
   "id": "2c5a48de",
   "metadata": {},
   "outputs": [
    {
     "name": "stdout",
     "output_type": "stream",
     "text": [
      "1\n"
     ]
    }
   ],
   "source": [
    "l = [100,10,20,30,40,50,30]   # .index() tells index of the first occurence of this item\n",
    "print(l.index(10,0,7))           # value, start index, end index => start index is inclusive , end index is exclusive\n"
   ]
  },
  {
   "cell_type": "code",
   "execution_count": null,
   "id": "ae1373fb",
   "metadata": {},
   "outputs": [
    {
     "name": "stdout",
     "output_type": "stream",
     "text": [
      "[10, 30, 40, 50]\n"
     ]
    }
   ],
   "source": [
    "l = [10,20,30,40,50]       # remove function removes the value from the list\n",
    "l.remove(20)\n",
    "print(l)"
   ]
  },
  {
   "cell_type": "code",
   "execution_count": 27,
   "id": "96cb4d67",
   "metadata": {},
   "outputs": [
    {
     "name": "stdout",
     "output_type": "stream",
     "text": [
      "[10, 20, 30, 40, 50]\n",
      "50\n",
      "[10, 20, 30, 40]\n"
     ]
    }
   ],
   "source": [
    "# pop function removes the last value and returns the removed value\n",
    "l = [10,20,30,40,50] \n",
    "print(l)\n",
    "print(l.pop())\n",
    "print(l)"
   ]
  },
  {
   "cell_type": "code",
   "execution_count": null,
   "id": "dace10f5",
   "metadata": {},
   "outputs": [
    {
     "name": "stdout",
     "output_type": "stream",
     "text": [
      "[10, 20, 30, 40, 50]\n",
      "20\n",
      "[10, 30, 40, 50]\n"
     ]
    }
   ],
   "source": [
    "l = [10,20,30,40,50] # pop function removes the index value if index is mentioned and returns the removed value\n",
    "print(l)\n",
    "print(l.pop(1))\n",
    "print(l)"
   ]
  },
  {
   "cell_type": "code",
   "execution_count": null,
   "id": "334b047b",
   "metadata": {},
   "outputs": [
    {
     "name": "stdout",
     "output_type": "stream",
     "text": [
      "[10, 20, 40, 50]\n"
     ]
    }
   ],
   "source": [
    "l = [10,20,30,40,50]   # del removes the item based on its index\n",
    "del l[2]\n",
    "print(l)"
   ]
  },
  {
   "cell_type": "code",
   "execution_count": null,
   "id": "1dc83530",
   "metadata": {},
   "outputs": [
    {
     "name": "stdout",
     "output_type": "stream",
     "text": [
      "[30, 40, 50]\n"
     ]
    }
   ],
   "source": [
    "l = [10,20,30,40,50]   # del removes the item based on its index range\n",
    "del l[0:2]             # removes the items between the given index range and prints the remaining\n",
    "print(l)"
   ]
  },
  {
   "cell_type": "code",
   "execution_count": null,
   "id": "c2908de7",
   "metadata": {},
   "outputs": [
    {
     "name": "stdout",
     "output_type": "stream",
     "text": [
      "100\n"
     ]
    }
   ],
   "source": [
    "# max function gives the maximum value item in the list\n",
    "l = [10,20,30,40,50,60,70,100] \n",
    "print(max(l))\n"
   ]
  },
  {
   "cell_type": "code",
   "execution_count": null,
   "id": "9bd7485b",
   "metadata": {},
   "outputs": [
    {
     "name": "stdout",
     "output_type": "stream",
     "text": [
      "10\n"
     ]
    }
   ],
   "source": [
    "# max function gives the minimum value item in the list\n",
    "l = [10,20,30,40,50,60,70,100] \n",
    "print(min(l))"
   ]
  },
  {
   "cell_type": "code",
   "execution_count": 35,
   "id": "b196f953",
   "metadata": {},
   "outputs": [
    {
     "name": "stdout",
     "output_type": "stream",
     "text": [
      "380\n"
     ]
    }
   ],
   "source": [
    "# sum function gives the sum of all items in the list\n",
    "l = [10,20,30,40,50,60,70,100] \n",
    "print(sum(l))"
   ]
  },
  {
   "cell_type": "code",
   "execution_count": null,
   "id": "820b6cae",
   "metadata": {},
   "outputs": [
    {
     "name": "stdout",
     "output_type": "stream",
     "text": [
      "[100, 70, 60, 50, 40, 30, 20, 10]\n"
     ]
    }
   ],
   "source": [
    "# reverse function reverses the list\n",
    "l = [10,20,30,40,50,60,70,100] \n",
    "l.reverse()\n",
    "print(l)"
   ]
  },
  {
   "cell_type": "code",
   "execution_count": 40,
   "id": "482c8168",
   "metadata": {},
   "outputs": [
    {
     "name": "stdout",
     "output_type": "stream",
     "text": [
      "[5, 10, 20, 30, 32, 33, 40, 50, 60, 67, 70, 100]\n"
     ]
    }
   ],
   "source": [
    "# sort function sorts the list in increasing order\n",
    "l = [10,5,20,30,40,33,50, 32,60,70,67,100] \n",
    "l.sort()\n",
    "print(l)"
   ]
  },
  {
   "cell_type": "code",
   "execution_count": 49,
   "id": "a7a252bd",
   "metadata": {},
   "outputs": [
    {
     "name": "stdout",
     "output_type": "stream",
     "text": [
      "['abc', 'def', 'efg', 'gfg']\n",
      "['gfg', 'efg', 'def', 'abc']\n",
      "abc\n",
      "gfg\n"
     ]
    }
   ],
   "source": [
    "l = ['abc', 'gfg', 'def', 'efg']\n",
    "l.sort()\n",
    "print(l)\n",
    "l.reverse()\n",
    "print(l)\n",
    "print(min(l))\n",
    "print(max(l))\n"
   ]
  },
  {
   "cell_type": "code",
   "execution_count": 54,
   "id": "83e1a797",
   "metadata": {},
   "outputs": [
    {
     "name": "stdout",
     "output_type": "stream",
     "text": [
      "25.0\n"
     ]
    }
   ],
   "source": [
    "# Find average/mean of this list\n",
    "\n",
    "l= [10,20,30,40]\n",
    "print(sum(l)/len(l))\n"
   ]
  },
  {
   "cell_type": "code",
   "execution_count": 65,
   "id": "9171ac00",
   "metadata": {},
   "outputs": [
    {
     "name": "stdout",
     "output_type": "stream",
     "text": [
      "[10, 20, 30, 40, 66]\n",
      "[33, 55, 77, 99]\n"
     ]
    }
   ],
   "source": [
    "# Seperate even and odd\n",
    "def getEvenOdd(l):\n",
    "\n",
    "    even=[]\n",
    "    odd=[]\n",
    "\n",
    "    for x in l :\n",
    "        if x%2==0:\n",
    "            even.append(x)\n",
    "        else:\n",
    "            odd.append(x)\n",
    "    return even,odd\n",
    "        \n",
    "l= [10,20,30,40, 33, 55, 66, 77, 99]\n",
    "even, odd = getEvenOdd(l)\n",
    "print(even)\n",
    "print(odd)\n",
    "        \n"
   ]
  },
  {
   "cell_type": "code",
   "execution_count": 66,
   "id": "d7ecdcdf",
   "metadata": {},
   "outputs": [
    {
     "name": "stdout",
     "output_type": "stream",
     "text": [
      "[8, 3, 7]\n"
     ]
    }
   ],
   "source": [
    "# Print elements smaller than value of x\n",
    "\n",
    "def getSmallerList(l,x):\n",
    "\n",
    "    new= []\n",
    "\n",
    "    for e in l:\n",
    "        if e < x:\n",
    "            new.append(e)\n",
    "    return new\n",
    "\n",
    "l= [8,100,20,40,3,7]\n",
    "x=10\n",
    "print(getSmallerList(l,x))\n",
    "\n",
    "\n",
    "\n"
   ]
  },
  {
   "cell_type": "markdown",
   "id": "341e2180",
   "metadata": {},
   "source": [
    "# Slicing\n",
    "\n",
    "my_list = [0, 1, 2, 3, 4, 5]\n",
    "\n",
    "| **Slice Syntax** | **Description**                          | **Example Output**   |\n",
    "| ---------------- | ---------------------------------------- | -------------------- |\n",
    "| `my_list[1:4]`   | Elements from index 1 to 3               | `[1, 2, 3]`          |\n",
    "| `my_list[:3]`    | First 3 elements (from start to index 2) | `[0, 1, 2]`          |\n",
    "| `my_list[3:]`    | From index 3 to the end                  | `[3, 4, 5]`          |\n",
    "| `my_list[::2]`   | Every 2nd element (step=2)               | `[0, 2, 4]`          |\n",
    "| `my_list[1::2]`  | Every 2nd element starting from index 1  | `[1, 3, 5]`          |\n",
    "| `my_list[-3:]`   | Last 3 elements                          | `[3, 4, 5]`          |\n",
    "| `my_list[:-2]`   | All but last 2 elements                  | `[0, 1, 2, 3]`       |\n",
    "| `my_list[::-1]`  | Reversed list                            | `[5, 4, 3, 2, 1, 0]` |\n",
    "| `my_list[2:10]`  | Slicing with stop index out of range     | `[2, 3, 4, 5]`       |\n",
    "| `my_list[:]`     | Copy of the whole list                   | `[0, 1, 2, 3, 4, 5]` |\n"
   ]
  },
  {
   "cell_type": "markdown",
   "id": "957d2841",
   "metadata": {},
   "source": [
    "\n",
    "---\n",
    "\n",
    "### 🧭 **Order: `start : stop : step`**\n",
    "\n",
    "```python\n",
    "my_list[start : stop : step]\n",
    "```\n",
    "\n",
    "### 📌 Meaning:\n",
    "\n",
    "| Part    | Purpose                                        | Default Value             |\n",
    "| ------- | ---------------------------------------------- | ------------------------- |\n",
    "| `start` | Index where the slice begins (inclusive)       | `0` (start of list)       |\n",
    "| `stop`  | Index where the slice ends (exclusive)         | `len(list)` (end of list) |\n",
    "| `step`  | How many indices to skip at each step (stride) | `1`                       |\n",
    "\n",
    "---\n",
    "\n",
    "### ✅ Example:\n",
    "\n",
    "```python\n",
    "my_list = [0, 1, 2, 3, 4, 5, 6]\n",
    "slice_result = my_list[1:6:2]  # From index 1 to 5, step 2\n",
    "print(slice_result)            # Output: [1, 3, 5]\n",
    "```\n",
    "\n",
    "* **Start at index 1** → `1`\n",
    "* **Next element at index 3** → `3`\n",
    "* **Next element at index 5** → `5`\n",
    "* Stop before index 6 → so index 6 (`6`) is not included.\n",
    "\n",
    "---\n",
    "\n",
    "### 🔄 Reversing with Slice\n",
    "\n",
    "```python\n",
    "my_list[::-1]\n",
    "```\n",
    "\n",
    "* `start`: Not given → starts at end\n",
    "* `stop`: Not given → stops at start\n",
    "* `step`: `-1` → reverse direction\n",
    "\n",
    "→ Reverses the list.\n",
    "\n",
    "---\n",
    "\n"
   ]
  },
  {
   "cell_type": "code",
   "execution_count": null,
   "id": "67e9e929",
   "metadata": {},
   "outputs": [],
   "source": []
  },
  {
   "cell_type": "code",
   "execution_count": 75,
   "id": "332f73a6",
   "metadata": {},
   "outputs": [
    {
     "name": "stdout",
     "output_type": "stream",
     "text": [
      "[10, 30, 50]\n",
      "[10, 20, 30, 40]\n",
      "[30, 40, 50]\n",
      "[20, 30, 40]\n",
      "[50, 40, 30]\n",
      "[50, 40, 30, 20, 10]\n",
      "[50, 40, 30, 20, 10]\n",
      "[10, 20, 30, 40, 50]\n",
      "[10, 20, 30, 40, 50]\n"
     ]
    }
   ],
   "source": [
    "# Slicing -list, tuple, string\n",
    "# when no start is present, it is considered as => 0\n",
    "# when no stop is present, it is considered as => length of the list\n",
    "# when no step is present, it is considered as => 1\n",
    "\n",
    "l = [10,20,30,40,50]\n",
    "\n",
    "print(l[0:5:2])\n",
    "\n",
    "print(l[:4])\n",
    "\n",
    "print(l[2:])\n",
    "\n",
    "print(l[1:4])\n",
    "\n",
    "print(l[4: 1: -1])\n",
    "\n",
    "print(l[-1: -6: -1])\n",
    "\n",
    "print(l[: : -1])\n",
    "\n",
    "print(l[0 : 5])\n",
    "\n",
    "print(l[:])\n"
   ]
  }
 ],
 "metadata": {
  "kernelspec": {
   "display_name": ".venv",
   "language": "python",
   "name": "python3"
  },
  "language_info": {
   "codemirror_mode": {
    "name": "ipython",
    "version": 3
   },
   "file_extension": ".py",
   "mimetype": "text/x-python",
   "name": "python",
   "nbconvert_exporter": "python",
   "pygments_lexer": "ipython3",
   "version": "3.13.3"
  }
 },
 "nbformat": 4,
 "nbformat_minor": 5
}
